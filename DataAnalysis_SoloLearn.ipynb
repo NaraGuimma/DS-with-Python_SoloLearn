{
  "nbformat": 4,
  "nbformat_minor": 0,
  "metadata": {
    "colab": {
      "name": "DataAnalysis-SoloLearn.ipynb",
      "provenance": [],
      "authorship_tag": "ABX9TyOk58+vx8ZKHTIl7JFw+xgm",
      "include_colab_link": true
    },
    "kernelspec": {
      "name": "python3",
      "display_name": "Python 3"
    }
  },
  "cells": [
    {
      "cell_type": "markdown",
      "metadata": {
        "id": "view-in-github",
        "colab_type": "text"
      },
      "source": [
        "<a href=\"https://colab.research.google.com/github/NaraGuimma/DS-with-Python_SoloLearn/blob/main/DataAnalysis_SoloLearn.ipynb\" target=\"_parent\"><img src=\"https://colab.research.google.com/assets/colab-badge.svg\" alt=\"Open In Colab\"/></a>"
      ]
    },
    {
      "cell_type": "code",
      "metadata": {
        "colab": {
          "base_uri": "https://localhost:8080/",
          "height": 142
        },
        "id": "LP9dPQzm5CL6",
        "outputId": "693ab675-af63-4750-d1c6-b4844e2ca0c7"
      },
      "source": [
        "import pandas as pd\r\n",
        "wine_dic = {\r\n",
        "  'red_wine':[3, 6, 5],\r\n",
        "  'white_wine': [5,0,10]\r\n",
        "}\r\n",
        "sales = pd.DataFrame(wine_dic, index = ['Adam', 'Bob', 'Charles'])\r\n",
        "sales"
      ],
      "execution_count": 1,
      "outputs": [
        {
          "output_type": "execute_result",
          "data": {
            "text/html": [
              "<div>\n",
              "<style scoped>\n",
              "    .dataframe tbody tr th:only-of-type {\n",
              "        vertical-align: middle;\n",
              "    }\n",
              "\n",
              "    .dataframe tbody tr th {\n",
              "        vertical-align: top;\n",
              "    }\n",
              "\n",
              "    .dataframe thead th {\n",
              "        text-align: right;\n",
              "    }\n",
              "</style>\n",
              "<table border=\"1\" class=\"dataframe\">\n",
              "  <thead>\n",
              "    <tr style=\"text-align: right;\">\n",
              "      <th></th>\n",
              "      <th>red_wine</th>\n",
              "      <th>white_wine</th>\n",
              "    </tr>\n",
              "  </thead>\n",
              "  <tbody>\n",
              "    <tr>\n",
              "      <th>Adam</th>\n",
              "      <td>3</td>\n",
              "      <td>5</td>\n",
              "    </tr>\n",
              "    <tr>\n",
              "      <th>Bob</th>\n",
              "      <td>6</td>\n",
              "      <td>0</td>\n",
              "    </tr>\n",
              "    <tr>\n",
              "      <th>Charles</th>\n",
              "      <td>5</td>\n",
              "      <td>10</td>\n",
              "    </tr>\n",
              "  </tbody>\n",
              "</table>\n",
              "</div>"
            ],
            "text/plain": [
              "         red_wine  white_wine\n",
              "Adam            3           5\n",
              "Bob             6           0\n",
              "Charles         5          10"
            ]
          },
          "metadata": {
            "tags": []
          },
          "execution_count": 1
        }
      ]
    },
    {
      "cell_type": "code",
      "metadata": {
        "colab": {
          "base_uri": "https://localhost:8080/",
          "height": 1000
        },
        "id": "sucMY5_j5Eol",
        "outputId": "cc657f51-736e-4df6-bc70-79916415f83d"
      },
      "source": [
        "president_df = pd.read_csv('http://sololearn.com/uploads/files/president_heights_party.csv')\r\n",
        "president_df"
      ],
      "execution_count": 2,
      "outputs": [
        {
          "output_type": "execute_result",
          "data": {
            "text/html": [
              "<div>\n",
              "<style scoped>\n",
              "    .dataframe tbody tr th:only-of-type {\n",
              "        vertical-align: middle;\n",
              "    }\n",
              "\n",
              "    .dataframe tbody tr th {\n",
              "        vertical-align: top;\n",
              "    }\n",
              "\n",
              "    .dataframe thead th {\n",
              "        text-align: right;\n",
              "    }\n",
              "</style>\n",
              "<table border=\"1\" class=\"dataframe\">\n",
              "  <thead>\n",
              "    <tr style=\"text-align: right;\">\n",
              "      <th></th>\n",
              "      <th>order</th>\n",
              "      <th>name</th>\n",
              "      <th>age</th>\n",
              "      <th>height</th>\n",
              "      <th>party</th>\n",
              "    </tr>\n",
              "  </thead>\n",
              "  <tbody>\n",
              "    <tr>\n",
              "      <th>0</th>\n",
              "      <td>1</td>\n",
              "      <td>George Washington</td>\n",
              "      <td>57</td>\n",
              "      <td>189</td>\n",
              "      <td>none</td>\n",
              "    </tr>\n",
              "    <tr>\n",
              "      <th>1</th>\n",
              "      <td>2</td>\n",
              "      <td>John Adams</td>\n",
              "      <td>61</td>\n",
              "      <td>170</td>\n",
              "      <td>federalist</td>\n",
              "    </tr>\n",
              "    <tr>\n",
              "      <th>2</th>\n",
              "      <td>3</td>\n",
              "      <td>Thomas Jefferson</td>\n",
              "      <td>57</td>\n",
              "      <td>189</td>\n",
              "      <td>democratic-republican</td>\n",
              "    </tr>\n",
              "    <tr>\n",
              "      <th>3</th>\n",
              "      <td>4</td>\n",
              "      <td>James Madison</td>\n",
              "      <td>57</td>\n",
              "      <td>163</td>\n",
              "      <td>democratic-republican</td>\n",
              "    </tr>\n",
              "    <tr>\n",
              "      <th>4</th>\n",
              "      <td>5</td>\n",
              "      <td>James Monroe</td>\n",
              "      <td>58</td>\n",
              "      <td>183</td>\n",
              "      <td>democratic-republican</td>\n",
              "    </tr>\n",
              "    <tr>\n",
              "      <th>5</th>\n",
              "      <td>6</td>\n",
              "      <td>John Quincy Adams</td>\n",
              "      <td>57</td>\n",
              "      <td>171</td>\n",
              "      <td>democratic-republican</td>\n",
              "    </tr>\n",
              "    <tr>\n",
              "      <th>6</th>\n",
              "      <td>7</td>\n",
              "      <td>Andrew Jackson</td>\n",
              "      <td>61</td>\n",
              "      <td>185</td>\n",
              "      <td>democratic</td>\n",
              "    </tr>\n",
              "    <tr>\n",
              "      <th>7</th>\n",
              "      <td>8</td>\n",
              "      <td>Martin Van Buren</td>\n",
              "      <td>54</td>\n",
              "      <td>168</td>\n",
              "      <td>democratic</td>\n",
              "    </tr>\n",
              "    <tr>\n",
              "      <th>8</th>\n",
              "      <td>9</td>\n",
              "      <td>William Henry Harrison</td>\n",
              "      <td>68</td>\n",
              "      <td>173</td>\n",
              "      <td>whig</td>\n",
              "    </tr>\n",
              "    <tr>\n",
              "      <th>9</th>\n",
              "      <td>10</td>\n",
              "      <td>John Tyler</td>\n",
              "      <td>51</td>\n",
              "      <td>183</td>\n",
              "      <td>whig</td>\n",
              "    </tr>\n",
              "    <tr>\n",
              "      <th>10</th>\n",
              "      <td>11</td>\n",
              "      <td>James K. Polk</td>\n",
              "      <td>49</td>\n",
              "      <td>173</td>\n",
              "      <td>democratic</td>\n",
              "    </tr>\n",
              "    <tr>\n",
              "      <th>11</th>\n",
              "      <td>12</td>\n",
              "      <td>Zachary Taylor</td>\n",
              "      <td>64</td>\n",
              "      <td>173</td>\n",
              "      <td>whig</td>\n",
              "    </tr>\n",
              "    <tr>\n",
              "      <th>12</th>\n",
              "      <td>13</td>\n",
              "      <td>Millard Fillmore</td>\n",
              "      <td>50</td>\n",
              "      <td>175</td>\n",
              "      <td>whig</td>\n",
              "    </tr>\n",
              "    <tr>\n",
              "      <th>13</th>\n",
              "      <td>14</td>\n",
              "      <td>Franklin Pierce</td>\n",
              "      <td>48</td>\n",
              "      <td>178</td>\n",
              "      <td>democratic</td>\n",
              "    </tr>\n",
              "    <tr>\n",
              "      <th>14</th>\n",
              "      <td>15</td>\n",
              "      <td>James Buchanan</td>\n",
              "      <td>65</td>\n",
              "      <td>183</td>\n",
              "      <td>democratic</td>\n",
              "    </tr>\n",
              "    <tr>\n",
              "      <th>15</th>\n",
              "      <td>16</td>\n",
              "      <td>Abraham Lincoln</td>\n",
              "      <td>52</td>\n",
              "      <td>193</td>\n",
              "      <td>republican</td>\n",
              "    </tr>\n",
              "    <tr>\n",
              "      <th>16</th>\n",
              "      <td>17</td>\n",
              "      <td>Andrew Johnson</td>\n",
              "      <td>56</td>\n",
              "      <td>178</td>\n",
              "      <td>national union</td>\n",
              "    </tr>\n",
              "    <tr>\n",
              "      <th>17</th>\n",
              "      <td>18</td>\n",
              "      <td>Ulysses S. Grant</td>\n",
              "      <td>46</td>\n",
              "      <td>173</td>\n",
              "      <td>republican</td>\n",
              "    </tr>\n",
              "    <tr>\n",
              "      <th>18</th>\n",
              "      <td>19</td>\n",
              "      <td>Rutherford B. Hayes</td>\n",
              "      <td>54</td>\n",
              "      <td>174</td>\n",
              "      <td>republican</td>\n",
              "    </tr>\n",
              "    <tr>\n",
              "      <th>19</th>\n",
              "      <td>20</td>\n",
              "      <td>James A. Garfield</td>\n",
              "      <td>49</td>\n",
              "      <td>183</td>\n",
              "      <td>republican</td>\n",
              "    </tr>\n",
              "    <tr>\n",
              "      <th>20</th>\n",
              "      <td>21</td>\n",
              "      <td>Chester A. Arthur</td>\n",
              "      <td>51</td>\n",
              "      <td>183</td>\n",
              "      <td>republican</td>\n",
              "    </tr>\n",
              "    <tr>\n",
              "      <th>21</th>\n",
              "      <td>22</td>\n",
              "      <td>Grover Cleveland</td>\n",
              "      <td>47</td>\n",
              "      <td>180</td>\n",
              "      <td>democratic</td>\n",
              "    </tr>\n",
              "    <tr>\n",
              "      <th>22</th>\n",
              "      <td>23</td>\n",
              "      <td>Benjamin Harrison</td>\n",
              "      <td>55</td>\n",
              "      <td>168</td>\n",
              "      <td>republican</td>\n",
              "    </tr>\n",
              "    <tr>\n",
              "      <th>23</th>\n",
              "      <td>25</td>\n",
              "      <td>Grover Cleveland</td>\n",
              "      <td>55</td>\n",
              "      <td>180</td>\n",
              "      <td>democratic</td>\n",
              "    </tr>\n",
              "    <tr>\n",
              "      <th>24</th>\n",
              "      <td>25</td>\n",
              "      <td>William McKinley</td>\n",
              "      <td>54</td>\n",
              "      <td>170</td>\n",
              "      <td>republican</td>\n",
              "    </tr>\n",
              "    <tr>\n",
              "      <th>25</th>\n",
              "      <td>26</td>\n",
              "      <td>Theodore Roosevelt</td>\n",
              "      <td>42</td>\n",
              "      <td>178</td>\n",
              "      <td>republican</td>\n",
              "    </tr>\n",
              "    <tr>\n",
              "      <th>26</th>\n",
              "      <td>27</td>\n",
              "      <td>William Howard Taft</td>\n",
              "      <td>51</td>\n",
              "      <td>182</td>\n",
              "      <td>republican</td>\n",
              "    </tr>\n",
              "    <tr>\n",
              "      <th>27</th>\n",
              "      <td>28</td>\n",
              "      <td>Woodrow Wilson</td>\n",
              "      <td>56</td>\n",
              "      <td>180</td>\n",
              "      <td>democratic</td>\n",
              "    </tr>\n",
              "    <tr>\n",
              "      <th>28</th>\n",
              "      <td>29</td>\n",
              "      <td>Warren G. Harding</td>\n",
              "      <td>55</td>\n",
              "      <td>183</td>\n",
              "      <td>republican</td>\n",
              "    </tr>\n",
              "    <tr>\n",
              "      <th>29</th>\n",
              "      <td>30</td>\n",
              "      <td>Calvin Coolidge</td>\n",
              "      <td>51</td>\n",
              "      <td>178</td>\n",
              "      <td>republican</td>\n",
              "    </tr>\n",
              "    <tr>\n",
              "      <th>30</th>\n",
              "      <td>31</td>\n",
              "      <td>Herbert Hoover</td>\n",
              "      <td>54</td>\n",
              "      <td>182</td>\n",
              "      <td>republican</td>\n",
              "    </tr>\n",
              "    <tr>\n",
              "      <th>31</th>\n",
              "      <td>32</td>\n",
              "      <td>Franklin D. Roosevelt</td>\n",
              "      <td>51</td>\n",
              "      <td>188</td>\n",
              "      <td>democratic</td>\n",
              "    </tr>\n",
              "    <tr>\n",
              "      <th>32</th>\n",
              "      <td>33</td>\n",
              "      <td>Harry S. Truman</td>\n",
              "      <td>60</td>\n",
              "      <td>175</td>\n",
              "      <td>democratic</td>\n",
              "    </tr>\n",
              "    <tr>\n",
              "      <th>33</th>\n",
              "      <td>34</td>\n",
              "      <td>Dwight D. Eisenhower</td>\n",
              "      <td>62</td>\n",
              "      <td>179</td>\n",
              "      <td>republican</td>\n",
              "    </tr>\n",
              "    <tr>\n",
              "      <th>34</th>\n",
              "      <td>35</td>\n",
              "      <td>John F. Kennedy</td>\n",
              "      <td>43</td>\n",
              "      <td>183</td>\n",
              "      <td>democratic</td>\n",
              "    </tr>\n",
              "    <tr>\n",
              "      <th>35</th>\n",
              "      <td>36</td>\n",
              "      <td>Lyndon B. Johnson</td>\n",
              "      <td>55</td>\n",
              "      <td>193</td>\n",
              "      <td>democratic</td>\n",
              "    </tr>\n",
              "    <tr>\n",
              "      <th>36</th>\n",
              "      <td>37</td>\n",
              "      <td>Richard Nixon</td>\n",
              "      <td>56</td>\n",
              "      <td>182</td>\n",
              "      <td>republican</td>\n",
              "    </tr>\n",
              "    <tr>\n",
              "      <th>37</th>\n",
              "      <td>38</td>\n",
              "      <td>Gerald Ford</td>\n",
              "      <td>61</td>\n",
              "      <td>183</td>\n",
              "      <td>republican</td>\n",
              "    </tr>\n",
              "    <tr>\n",
              "      <th>38</th>\n",
              "      <td>39</td>\n",
              "      <td>Jimmy Carter</td>\n",
              "      <td>52</td>\n",
              "      <td>177</td>\n",
              "      <td>democratic</td>\n",
              "    </tr>\n",
              "    <tr>\n",
              "      <th>39</th>\n",
              "      <td>40</td>\n",
              "      <td>Ronald Reagan</td>\n",
              "      <td>69</td>\n",
              "      <td>185</td>\n",
              "      <td>republican</td>\n",
              "    </tr>\n",
              "    <tr>\n",
              "      <th>40</th>\n",
              "      <td>41</td>\n",
              "      <td>George H. W. Bush</td>\n",
              "      <td>64</td>\n",
              "      <td>188</td>\n",
              "      <td>republican</td>\n",
              "    </tr>\n",
              "    <tr>\n",
              "      <th>41</th>\n",
              "      <td>42</td>\n",
              "      <td>Bill Clinton</td>\n",
              "      <td>46</td>\n",
              "      <td>188</td>\n",
              "      <td>democratic</td>\n",
              "    </tr>\n",
              "    <tr>\n",
              "      <th>42</th>\n",
              "      <td>43</td>\n",
              "      <td>George W. Bush</td>\n",
              "      <td>54</td>\n",
              "      <td>182</td>\n",
              "      <td>republican</td>\n",
              "    </tr>\n",
              "    <tr>\n",
              "      <th>43</th>\n",
              "      <td>44</td>\n",
              "      <td>Barack Obama</td>\n",
              "      <td>47</td>\n",
              "      <td>185</td>\n",
              "      <td>democratic</td>\n",
              "    </tr>\n",
              "    <tr>\n",
              "      <th>44</th>\n",
              "      <td>45</td>\n",
              "      <td>Donald J. Trump</td>\n",
              "      <td>70</td>\n",
              "      <td>191</td>\n",
              "      <td>republican</td>\n",
              "    </tr>\n",
              "  </tbody>\n",
              "</table>\n",
              "</div>"
            ],
            "text/plain": [
              "    order                    name  age  height                  party\n",
              "0       1       George Washington   57     189                   none\n",
              "1       2              John Adams   61     170             federalist\n",
              "2       3        Thomas Jefferson   57     189  democratic-republican\n",
              "3       4           James Madison   57     163  democratic-republican\n",
              "4       5            James Monroe   58     183  democratic-republican\n",
              "5       6       John Quincy Adams   57     171  democratic-republican\n",
              "6       7          Andrew Jackson   61     185             democratic\n",
              "7       8        Martin Van Buren   54     168             democratic\n",
              "8       9  William Henry Harrison   68     173                   whig\n",
              "9      10              John Tyler   51     183                   whig\n",
              "10     11           James K. Polk   49     173             democratic\n",
              "11     12          Zachary Taylor   64     173                   whig\n",
              "12     13        Millard Fillmore   50     175                   whig\n",
              "13     14         Franklin Pierce   48     178             democratic\n",
              "14     15          James Buchanan   65     183             democratic\n",
              "15     16         Abraham Lincoln   52     193             republican\n",
              "16     17          Andrew Johnson   56     178         national union\n",
              "17     18        Ulysses S. Grant   46     173             republican\n",
              "18     19     Rutherford B. Hayes   54     174             republican\n",
              "19     20       James A. Garfield   49     183             republican\n",
              "20     21       Chester A. Arthur   51     183             republican\n",
              "21     22        Grover Cleveland   47     180             democratic\n",
              "22     23       Benjamin Harrison   55     168             republican\n",
              "23     25        Grover Cleveland   55     180             democratic\n",
              "24     25        William McKinley   54     170             republican\n",
              "25     26      Theodore Roosevelt   42     178             republican\n",
              "26     27     William Howard Taft   51     182             republican\n",
              "27     28          Woodrow Wilson   56     180             democratic\n",
              "28     29       Warren G. Harding   55     183             republican\n",
              "29     30         Calvin Coolidge   51     178             republican\n",
              "30     31          Herbert Hoover   54     182             republican\n",
              "31     32   Franklin D. Roosevelt   51     188             democratic\n",
              "32     33         Harry S. Truman   60     175             democratic\n",
              "33     34    Dwight D. Eisenhower   62     179             republican\n",
              "34     35         John F. Kennedy   43     183             democratic\n",
              "35     36       Lyndon B. Johnson   55     193             democratic\n",
              "36     37           Richard Nixon   56     182             republican\n",
              "37     38             Gerald Ford   61     183             republican\n",
              "38     39            Jimmy Carter   52     177             democratic\n",
              "39     40           Ronald Reagan   69     185             republican\n",
              "40     41       George H. W. Bush   64     188             republican\n",
              "41     42            Bill Clinton   46     188             democratic\n",
              "42     43          George W. Bush   54     182             republican\n",
              "43     44            Barack Obama   47     185             democratic\n",
              "44     45         Donald J. Trump   70     191             republican"
            ]
          },
          "metadata": {
            "tags": []
          },
          "execution_count": 2
        }
      ]
    },
    {
      "cell_type": "code",
      "metadata": {
        "colab": {
          "base_uri": "https://localhost:8080/"
        },
        "id": "veFJFwT86eMf",
        "outputId": "3d7fcc31-5594-468e-835a-28b383578ed2"
      },
      "source": [
        "president_df.shape"
      ],
      "execution_count": 3,
      "outputs": [
        {
          "output_type": "execute_result",
          "data": {
            "text/plain": [
              "(45, 5)"
            ]
          },
          "metadata": {
            "tags": []
          },
          "execution_count": 3
        }
      ]
    },
    {
      "cell_type": "code",
      "metadata": {
        "colab": {
          "base_uri": "https://localhost:8080/"
        },
        "id": "TJ0v0fjl7J-d",
        "outputId": "dd08e8ee-2ea6-49c5-e731-0e6481cc4034"
      },
      "source": [
        "president_df.shape[0]"
      ],
      "execution_count": 4,
      "outputs": [
        {
          "output_type": "execute_result",
          "data": {
            "text/plain": [
              "45"
            ]
          },
          "metadata": {
            "tags": []
          },
          "execution_count": 4
        }
      ]
    },
    {
      "cell_type": "code",
      "metadata": {
        "colab": {
          "base_uri": "https://localhost:8080/"
        },
        "id": "-WPMNaHj7noR",
        "outputId": "6868db22-b884-47a9-a0a4-f314043d56bb"
      },
      "source": [
        "president_df.size"
      ],
      "execution_count": 5,
      "outputs": [
        {
          "output_type": "execute_result",
          "data": {
            "text/plain": [
              "225"
            ]
          },
          "metadata": {
            "tags": []
          },
          "execution_count": 5
        }
      ]
    },
    {
      "cell_type": "code",
      "metadata": {
        "colab": {
          "base_uri": "https://localhost:8080/"
        },
        "id": "TKa7IVEc712J",
        "outputId": "7f070b18-a5d4-4a18-f4a3-065020ea1fb2"
      },
      "source": [
        "president_df.shape[1]"
      ],
      "execution_count": 6,
      "outputs": [
        {
          "output_type": "execute_result",
          "data": {
            "text/plain": [
              "5"
            ]
          },
          "metadata": {
            "tags": []
          },
          "execution_count": 6
        }
      ]
    },
    {
      "cell_type": "code",
      "metadata": {
        "colab": {
          "base_uri": "https://localhost:8080/",
          "height": 359
        },
        "id": "ijpw5Rhe8vAP",
        "outputId": "2629a5f3-f85a-47c4-a377-6499540c11b4"
      },
      "source": [
        "president_df.head(10)"
      ],
      "execution_count": 7,
      "outputs": [
        {
          "output_type": "execute_result",
          "data": {
            "text/html": [
              "<div>\n",
              "<style scoped>\n",
              "    .dataframe tbody tr th:only-of-type {\n",
              "        vertical-align: middle;\n",
              "    }\n",
              "\n",
              "    .dataframe tbody tr th {\n",
              "        vertical-align: top;\n",
              "    }\n",
              "\n",
              "    .dataframe thead th {\n",
              "        text-align: right;\n",
              "    }\n",
              "</style>\n",
              "<table border=\"1\" class=\"dataframe\">\n",
              "  <thead>\n",
              "    <tr style=\"text-align: right;\">\n",
              "      <th></th>\n",
              "      <th>order</th>\n",
              "      <th>name</th>\n",
              "      <th>age</th>\n",
              "      <th>height</th>\n",
              "      <th>party</th>\n",
              "    </tr>\n",
              "  </thead>\n",
              "  <tbody>\n",
              "    <tr>\n",
              "      <th>0</th>\n",
              "      <td>1</td>\n",
              "      <td>George Washington</td>\n",
              "      <td>57</td>\n",
              "      <td>189</td>\n",
              "      <td>none</td>\n",
              "    </tr>\n",
              "    <tr>\n",
              "      <th>1</th>\n",
              "      <td>2</td>\n",
              "      <td>John Adams</td>\n",
              "      <td>61</td>\n",
              "      <td>170</td>\n",
              "      <td>federalist</td>\n",
              "    </tr>\n",
              "    <tr>\n",
              "      <th>2</th>\n",
              "      <td>3</td>\n",
              "      <td>Thomas Jefferson</td>\n",
              "      <td>57</td>\n",
              "      <td>189</td>\n",
              "      <td>democratic-republican</td>\n",
              "    </tr>\n",
              "    <tr>\n",
              "      <th>3</th>\n",
              "      <td>4</td>\n",
              "      <td>James Madison</td>\n",
              "      <td>57</td>\n",
              "      <td>163</td>\n",
              "      <td>democratic-republican</td>\n",
              "    </tr>\n",
              "    <tr>\n",
              "      <th>4</th>\n",
              "      <td>5</td>\n",
              "      <td>James Monroe</td>\n",
              "      <td>58</td>\n",
              "      <td>183</td>\n",
              "      <td>democratic-republican</td>\n",
              "    </tr>\n",
              "    <tr>\n",
              "      <th>5</th>\n",
              "      <td>6</td>\n",
              "      <td>John Quincy Adams</td>\n",
              "      <td>57</td>\n",
              "      <td>171</td>\n",
              "      <td>democratic-republican</td>\n",
              "    </tr>\n",
              "    <tr>\n",
              "      <th>6</th>\n",
              "      <td>7</td>\n",
              "      <td>Andrew Jackson</td>\n",
              "      <td>61</td>\n",
              "      <td>185</td>\n",
              "      <td>democratic</td>\n",
              "    </tr>\n",
              "    <tr>\n",
              "      <th>7</th>\n",
              "      <td>8</td>\n",
              "      <td>Martin Van Buren</td>\n",
              "      <td>54</td>\n",
              "      <td>168</td>\n",
              "      <td>democratic</td>\n",
              "    </tr>\n",
              "    <tr>\n",
              "      <th>8</th>\n",
              "      <td>9</td>\n",
              "      <td>William Henry Harrison</td>\n",
              "      <td>68</td>\n",
              "      <td>173</td>\n",
              "      <td>whig</td>\n",
              "    </tr>\n",
              "    <tr>\n",
              "      <th>9</th>\n",
              "      <td>10</td>\n",
              "      <td>John Tyler</td>\n",
              "      <td>51</td>\n",
              "      <td>183</td>\n",
              "      <td>whig</td>\n",
              "    </tr>\n",
              "  </tbody>\n",
              "</table>\n",
              "</div>"
            ],
            "text/plain": [
              "   order                    name  age  height                  party\n",
              "0      1       George Washington   57     189                   none\n",
              "1      2              John Adams   61     170             federalist\n",
              "2      3        Thomas Jefferson   57     189  democratic-republican\n",
              "3      4           James Madison   57     163  democratic-republican\n",
              "4      5            James Monroe   58     183  democratic-republican\n",
              "5      6       John Quincy Adams   57     171  democratic-republican\n",
              "6      7          Andrew Jackson   61     185             democratic\n",
              "7      8        Martin Van Buren   54     168             democratic\n",
              "8      9  William Henry Harrison   68     173                   whig\n",
              "9     10              John Tyler   51     183                   whig"
            ]
          },
          "metadata": {
            "tags": []
          },
          "execution_count": 7
        }
      ]
    },
    {
      "cell_type": "code",
      "metadata": {
        "colab": {
          "base_uri": "https://localhost:8080/"
        },
        "id": "dNxI7h-49_nn",
        "outputId": "f50361bb-f20a-4cab-fe8a-e5d9a7a1d488"
      },
      "source": [
        "president_df.info()"
      ],
      "execution_count": 8,
      "outputs": [
        {
          "output_type": "stream",
          "text": [
            "<class 'pandas.core.frame.DataFrame'>\n",
            "RangeIndex: 45 entries, 0 to 44\n",
            "Data columns (total 5 columns):\n",
            " #   Column  Non-Null Count  Dtype \n",
            "---  ------  --------------  ----- \n",
            " 0   order   45 non-null     int64 \n",
            " 1   name    45 non-null     object\n",
            " 2   age     45 non-null     int64 \n",
            " 3   height  45 non-null     int64 \n",
            " 4   party   45 non-null     object\n",
            "dtypes: int64(3), object(2)\n",
            "memory usage: 1.9+ KB\n"
          ],
          "name": "stdout"
        }
      ]
    },
    {
      "cell_type": "code",
      "metadata": {
        "colab": {
          "base_uri": "https://localhost:8080/",
          "height": 1000
        },
        "id": "kIycM-TUCIBi",
        "outputId": "a079fccd-fa88-4f5e-8e88-cb460ee76c0f"
      },
      "source": [
        "president_df = pd.read_csv('http://sololearn.com/uploads/files/president_heights_party.csv', index_col='name')\r\n",
        "president_df"
      ],
      "execution_count": 9,
      "outputs": [
        {
          "output_type": "execute_result",
          "data": {
            "text/html": [
              "<div>\n",
              "<style scoped>\n",
              "    .dataframe tbody tr th:only-of-type {\n",
              "        vertical-align: middle;\n",
              "    }\n",
              "\n",
              "    .dataframe tbody tr th {\n",
              "        vertical-align: top;\n",
              "    }\n",
              "\n",
              "    .dataframe thead th {\n",
              "        text-align: right;\n",
              "    }\n",
              "</style>\n",
              "<table border=\"1\" class=\"dataframe\">\n",
              "  <thead>\n",
              "    <tr style=\"text-align: right;\">\n",
              "      <th></th>\n",
              "      <th>order</th>\n",
              "      <th>age</th>\n",
              "      <th>height</th>\n",
              "      <th>party</th>\n",
              "    </tr>\n",
              "    <tr>\n",
              "      <th>name</th>\n",
              "      <th></th>\n",
              "      <th></th>\n",
              "      <th></th>\n",
              "      <th></th>\n",
              "    </tr>\n",
              "  </thead>\n",
              "  <tbody>\n",
              "    <tr>\n",
              "      <th>George Washington</th>\n",
              "      <td>1</td>\n",
              "      <td>57</td>\n",
              "      <td>189</td>\n",
              "      <td>none</td>\n",
              "    </tr>\n",
              "    <tr>\n",
              "      <th>John Adams</th>\n",
              "      <td>2</td>\n",
              "      <td>61</td>\n",
              "      <td>170</td>\n",
              "      <td>federalist</td>\n",
              "    </tr>\n",
              "    <tr>\n",
              "      <th>Thomas Jefferson</th>\n",
              "      <td>3</td>\n",
              "      <td>57</td>\n",
              "      <td>189</td>\n",
              "      <td>democratic-republican</td>\n",
              "    </tr>\n",
              "    <tr>\n",
              "      <th>James Madison</th>\n",
              "      <td>4</td>\n",
              "      <td>57</td>\n",
              "      <td>163</td>\n",
              "      <td>democratic-republican</td>\n",
              "    </tr>\n",
              "    <tr>\n",
              "      <th>James Monroe</th>\n",
              "      <td>5</td>\n",
              "      <td>58</td>\n",
              "      <td>183</td>\n",
              "      <td>democratic-republican</td>\n",
              "    </tr>\n",
              "    <tr>\n",
              "      <th>John Quincy Adams</th>\n",
              "      <td>6</td>\n",
              "      <td>57</td>\n",
              "      <td>171</td>\n",
              "      <td>democratic-republican</td>\n",
              "    </tr>\n",
              "    <tr>\n",
              "      <th>Andrew Jackson</th>\n",
              "      <td>7</td>\n",
              "      <td>61</td>\n",
              "      <td>185</td>\n",
              "      <td>democratic</td>\n",
              "    </tr>\n",
              "    <tr>\n",
              "      <th>Martin Van Buren</th>\n",
              "      <td>8</td>\n",
              "      <td>54</td>\n",
              "      <td>168</td>\n",
              "      <td>democratic</td>\n",
              "    </tr>\n",
              "    <tr>\n",
              "      <th>William Henry Harrison</th>\n",
              "      <td>9</td>\n",
              "      <td>68</td>\n",
              "      <td>173</td>\n",
              "      <td>whig</td>\n",
              "    </tr>\n",
              "    <tr>\n",
              "      <th>John Tyler</th>\n",
              "      <td>10</td>\n",
              "      <td>51</td>\n",
              "      <td>183</td>\n",
              "      <td>whig</td>\n",
              "    </tr>\n",
              "    <tr>\n",
              "      <th>James K. Polk</th>\n",
              "      <td>11</td>\n",
              "      <td>49</td>\n",
              "      <td>173</td>\n",
              "      <td>democratic</td>\n",
              "    </tr>\n",
              "    <tr>\n",
              "      <th>Zachary Taylor</th>\n",
              "      <td>12</td>\n",
              "      <td>64</td>\n",
              "      <td>173</td>\n",
              "      <td>whig</td>\n",
              "    </tr>\n",
              "    <tr>\n",
              "      <th>Millard Fillmore</th>\n",
              "      <td>13</td>\n",
              "      <td>50</td>\n",
              "      <td>175</td>\n",
              "      <td>whig</td>\n",
              "    </tr>\n",
              "    <tr>\n",
              "      <th>Franklin Pierce</th>\n",
              "      <td>14</td>\n",
              "      <td>48</td>\n",
              "      <td>178</td>\n",
              "      <td>democratic</td>\n",
              "    </tr>\n",
              "    <tr>\n",
              "      <th>James Buchanan</th>\n",
              "      <td>15</td>\n",
              "      <td>65</td>\n",
              "      <td>183</td>\n",
              "      <td>democratic</td>\n",
              "    </tr>\n",
              "    <tr>\n",
              "      <th>Abraham Lincoln</th>\n",
              "      <td>16</td>\n",
              "      <td>52</td>\n",
              "      <td>193</td>\n",
              "      <td>republican</td>\n",
              "    </tr>\n",
              "    <tr>\n",
              "      <th>Andrew Johnson</th>\n",
              "      <td>17</td>\n",
              "      <td>56</td>\n",
              "      <td>178</td>\n",
              "      <td>national union</td>\n",
              "    </tr>\n",
              "    <tr>\n",
              "      <th>Ulysses S. Grant</th>\n",
              "      <td>18</td>\n",
              "      <td>46</td>\n",
              "      <td>173</td>\n",
              "      <td>republican</td>\n",
              "    </tr>\n",
              "    <tr>\n",
              "      <th>Rutherford B. Hayes</th>\n",
              "      <td>19</td>\n",
              "      <td>54</td>\n",
              "      <td>174</td>\n",
              "      <td>republican</td>\n",
              "    </tr>\n",
              "    <tr>\n",
              "      <th>James A. Garfield</th>\n",
              "      <td>20</td>\n",
              "      <td>49</td>\n",
              "      <td>183</td>\n",
              "      <td>republican</td>\n",
              "    </tr>\n",
              "    <tr>\n",
              "      <th>Chester A. Arthur</th>\n",
              "      <td>21</td>\n",
              "      <td>51</td>\n",
              "      <td>183</td>\n",
              "      <td>republican</td>\n",
              "    </tr>\n",
              "    <tr>\n",
              "      <th>Grover Cleveland</th>\n",
              "      <td>22</td>\n",
              "      <td>47</td>\n",
              "      <td>180</td>\n",
              "      <td>democratic</td>\n",
              "    </tr>\n",
              "    <tr>\n",
              "      <th>Benjamin Harrison</th>\n",
              "      <td>23</td>\n",
              "      <td>55</td>\n",
              "      <td>168</td>\n",
              "      <td>republican</td>\n",
              "    </tr>\n",
              "    <tr>\n",
              "      <th>Grover Cleveland</th>\n",
              "      <td>25</td>\n",
              "      <td>55</td>\n",
              "      <td>180</td>\n",
              "      <td>democratic</td>\n",
              "    </tr>\n",
              "    <tr>\n",
              "      <th>William McKinley</th>\n",
              "      <td>25</td>\n",
              "      <td>54</td>\n",
              "      <td>170</td>\n",
              "      <td>republican</td>\n",
              "    </tr>\n",
              "    <tr>\n",
              "      <th>Theodore Roosevelt</th>\n",
              "      <td>26</td>\n",
              "      <td>42</td>\n",
              "      <td>178</td>\n",
              "      <td>republican</td>\n",
              "    </tr>\n",
              "    <tr>\n",
              "      <th>William Howard Taft</th>\n",
              "      <td>27</td>\n",
              "      <td>51</td>\n",
              "      <td>182</td>\n",
              "      <td>republican</td>\n",
              "    </tr>\n",
              "    <tr>\n",
              "      <th>Woodrow Wilson</th>\n",
              "      <td>28</td>\n",
              "      <td>56</td>\n",
              "      <td>180</td>\n",
              "      <td>democratic</td>\n",
              "    </tr>\n",
              "    <tr>\n",
              "      <th>Warren G. Harding</th>\n",
              "      <td>29</td>\n",
              "      <td>55</td>\n",
              "      <td>183</td>\n",
              "      <td>republican</td>\n",
              "    </tr>\n",
              "    <tr>\n",
              "      <th>Calvin Coolidge</th>\n",
              "      <td>30</td>\n",
              "      <td>51</td>\n",
              "      <td>178</td>\n",
              "      <td>republican</td>\n",
              "    </tr>\n",
              "    <tr>\n",
              "      <th>Herbert Hoover</th>\n",
              "      <td>31</td>\n",
              "      <td>54</td>\n",
              "      <td>182</td>\n",
              "      <td>republican</td>\n",
              "    </tr>\n",
              "    <tr>\n",
              "      <th>Franklin D. Roosevelt</th>\n",
              "      <td>32</td>\n",
              "      <td>51</td>\n",
              "      <td>188</td>\n",
              "      <td>democratic</td>\n",
              "    </tr>\n",
              "    <tr>\n",
              "      <th>Harry S. Truman</th>\n",
              "      <td>33</td>\n",
              "      <td>60</td>\n",
              "      <td>175</td>\n",
              "      <td>democratic</td>\n",
              "    </tr>\n",
              "    <tr>\n",
              "      <th>Dwight D. Eisenhower</th>\n",
              "      <td>34</td>\n",
              "      <td>62</td>\n",
              "      <td>179</td>\n",
              "      <td>republican</td>\n",
              "    </tr>\n",
              "    <tr>\n",
              "      <th>John F. Kennedy</th>\n",
              "      <td>35</td>\n",
              "      <td>43</td>\n",
              "      <td>183</td>\n",
              "      <td>democratic</td>\n",
              "    </tr>\n",
              "    <tr>\n",
              "      <th>Lyndon B. Johnson</th>\n",
              "      <td>36</td>\n",
              "      <td>55</td>\n",
              "      <td>193</td>\n",
              "      <td>democratic</td>\n",
              "    </tr>\n",
              "    <tr>\n",
              "      <th>Richard Nixon</th>\n",
              "      <td>37</td>\n",
              "      <td>56</td>\n",
              "      <td>182</td>\n",
              "      <td>republican</td>\n",
              "    </tr>\n",
              "    <tr>\n",
              "      <th>Gerald Ford</th>\n",
              "      <td>38</td>\n",
              "      <td>61</td>\n",
              "      <td>183</td>\n",
              "      <td>republican</td>\n",
              "    </tr>\n",
              "    <tr>\n",
              "      <th>Jimmy Carter</th>\n",
              "      <td>39</td>\n",
              "      <td>52</td>\n",
              "      <td>177</td>\n",
              "      <td>democratic</td>\n",
              "    </tr>\n",
              "    <tr>\n",
              "      <th>Ronald Reagan</th>\n",
              "      <td>40</td>\n",
              "      <td>69</td>\n",
              "      <td>185</td>\n",
              "      <td>republican</td>\n",
              "    </tr>\n",
              "    <tr>\n",
              "      <th>George H. W. Bush</th>\n",
              "      <td>41</td>\n",
              "      <td>64</td>\n",
              "      <td>188</td>\n",
              "      <td>republican</td>\n",
              "    </tr>\n",
              "    <tr>\n",
              "      <th>Bill Clinton</th>\n",
              "      <td>42</td>\n",
              "      <td>46</td>\n",
              "      <td>188</td>\n",
              "      <td>democratic</td>\n",
              "    </tr>\n",
              "    <tr>\n",
              "      <th>George W. Bush</th>\n",
              "      <td>43</td>\n",
              "      <td>54</td>\n",
              "      <td>182</td>\n",
              "      <td>republican</td>\n",
              "    </tr>\n",
              "    <tr>\n",
              "      <th>Barack Obama</th>\n",
              "      <td>44</td>\n",
              "      <td>47</td>\n",
              "      <td>185</td>\n",
              "      <td>democratic</td>\n",
              "    </tr>\n",
              "    <tr>\n",
              "      <th>Donald J. Trump</th>\n",
              "      <td>45</td>\n",
              "      <td>70</td>\n",
              "      <td>191</td>\n",
              "      <td>republican</td>\n",
              "    </tr>\n",
              "  </tbody>\n",
              "</table>\n",
              "</div>"
            ],
            "text/plain": [
              "                        order  age  height                  party\n",
              "name                                                             \n",
              "George Washington           1   57     189                   none\n",
              "John Adams                  2   61     170             federalist\n",
              "Thomas Jefferson            3   57     189  democratic-republican\n",
              "James Madison               4   57     163  democratic-republican\n",
              "James Monroe                5   58     183  democratic-republican\n",
              "John Quincy Adams           6   57     171  democratic-republican\n",
              "Andrew Jackson              7   61     185             democratic\n",
              "Martin Van Buren            8   54     168             democratic\n",
              "William Henry Harrison      9   68     173                   whig\n",
              "John Tyler                 10   51     183                   whig\n",
              "James K. Polk              11   49     173             democratic\n",
              "Zachary Taylor             12   64     173                   whig\n",
              "Millard Fillmore           13   50     175                   whig\n",
              "Franklin Pierce            14   48     178             democratic\n",
              "James Buchanan             15   65     183             democratic\n",
              "Abraham Lincoln            16   52     193             republican\n",
              "Andrew Johnson             17   56     178         national union\n",
              "Ulysses S. Grant           18   46     173             republican\n",
              "Rutherford B. Hayes        19   54     174             republican\n",
              "James A. Garfield          20   49     183             republican\n",
              "Chester A. Arthur          21   51     183             republican\n",
              "Grover Cleveland           22   47     180             democratic\n",
              "Benjamin Harrison          23   55     168             republican\n",
              "Grover Cleveland           25   55     180             democratic\n",
              "William McKinley           25   54     170             republican\n",
              "Theodore Roosevelt         26   42     178             republican\n",
              "William Howard Taft        27   51     182             republican\n",
              "Woodrow Wilson             28   56     180             democratic\n",
              "Warren G. Harding          29   55     183             republican\n",
              "Calvin Coolidge            30   51     178             republican\n",
              "Herbert Hoover             31   54     182             republican\n",
              "Franklin D. Roosevelt      32   51     188             democratic\n",
              "Harry S. Truman            33   60     175             democratic\n",
              "Dwight D. Eisenhower       34   62     179             republican\n",
              "John F. Kennedy            35   43     183             democratic\n",
              "Lyndon B. Johnson          36   55     193             democratic\n",
              "Richard Nixon              37   56     182             republican\n",
              "Gerald Ford                38   61     183             republican\n",
              "Jimmy Carter               39   52     177             democratic\n",
              "Ronald Reagan              40   69     185             republican\n",
              "George H. W. Bush          41   64     188             republican\n",
              "Bill Clinton               42   46     188             democratic\n",
              "George W. Bush             43   54     182             republican\n",
              "Barack Obama               44   47     185             democratic\n",
              "Donald J. Trump            45   70     191             republican"
            ]
          },
          "metadata": {
            "tags": []
          },
          "execution_count": 9
        }
      ]
    },
    {
      "cell_type": "code",
      "metadata": {
        "colab": {
          "base_uri": "https://localhost:8080/"
        },
        "id": "yiqXHiLYCPd6",
        "outputId": "1d54a1ad-0b92-4bf1-b329-7b51b71526e6"
      },
      "source": [
        "president_df.loc['Abraham Lincoln']"
      ],
      "execution_count": 10,
      "outputs": [
        {
          "output_type": "execute_result",
          "data": {
            "text/plain": [
              "order             16\n",
              "age               52\n",
              "height           193\n",
              "party     republican\n",
              "Name: Abraham Lincoln, dtype: object"
            ]
          },
          "metadata": {
            "tags": []
          },
          "execution_count": 10
        }
      ]
    },
    {
      "cell_type": "code",
      "metadata": {
        "colab": {
          "base_uri": "https://localhost:8080/"
        },
        "id": "N0OyZNjECZwj",
        "outputId": "1f86f1a6-2162-4e5b-f381-c9add211947d"
      },
      "source": [
        "president_df.loc['Abraham Lincoln'].shape"
      ],
      "execution_count": 11,
      "outputs": [
        {
          "output_type": "execute_result",
          "data": {
            "text/plain": [
              "(4,)"
            ]
          },
          "metadata": {
            "tags": []
          },
          "execution_count": 11
        }
      ]
    },
    {
      "cell_type": "code",
      "metadata": {
        "colab": {
          "base_uri": "https://localhost:8080/",
          "height": 173
        },
        "id": "COKrStDCCe07",
        "outputId": "40fc9046-ec25-4d3b-f5a5-17ccb3b49ca6"
      },
      "source": [
        "president_df.loc['Abraham Lincoln':'Ulysses S. Grant']"
      ],
      "execution_count": 12,
      "outputs": [
        {
          "output_type": "execute_result",
          "data": {
            "text/html": [
              "<div>\n",
              "<style scoped>\n",
              "    .dataframe tbody tr th:only-of-type {\n",
              "        vertical-align: middle;\n",
              "    }\n",
              "\n",
              "    .dataframe tbody tr th {\n",
              "        vertical-align: top;\n",
              "    }\n",
              "\n",
              "    .dataframe thead th {\n",
              "        text-align: right;\n",
              "    }\n",
              "</style>\n",
              "<table border=\"1\" class=\"dataframe\">\n",
              "  <thead>\n",
              "    <tr style=\"text-align: right;\">\n",
              "      <th></th>\n",
              "      <th>order</th>\n",
              "      <th>age</th>\n",
              "      <th>height</th>\n",
              "      <th>party</th>\n",
              "    </tr>\n",
              "    <tr>\n",
              "      <th>name</th>\n",
              "      <th></th>\n",
              "      <th></th>\n",
              "      <th></th>\n",
              "      <th></th>\n",
              "    </tr>\n",
              "  </thead>\n",
              "  <tbody>\n",
              "    <tr>\n",
              "      <th>Abraham Lincoln</th>\n",
              "      <td>16</td>\n",
              "      <td>52</td>\n",
              "      <td>193</td>\n",
              "      <td>republican</td>\n",
              "    </tr>\n",
              "    <tr>\n",
              "      <th>Andrew Johnson</th>\n",
              "      <td>17</td>\n",
              "      <td>56</td>\n",
              "      <td>178</td>\n",
              "      <td>national union</td>\n",
              "    </tr>\n",
              "    <tr>\n",
              "      <th>Ulysses S. Grant</th>\n",
              "      <td>18</td>\n",
              "      <td>46</td>\n",
              "      <td>173</td>\n",
              "      <td>republican</td>\n",
              "    </tr>\n",
              "  </tbody>\n",
              "</table>\n",
              "</div>"
            ],
            "text/plain": [
              "                  order  age  height           party\n",
              "name                                                \n",
              "Abraham Lincoln      16   52     193      republican\n",
              "Andrew Johnson       17   56     178  national union\n",
              "Ulysses S. Grant     18   46     173      republican"
            ]
          },
          "metadata": {
            "tags": []
          },
          "execution_count": 12
        }
      ]
    },
    {
      "cell_type": "code",
      "metadata": {
        "colab": {
          "base_uri": "https://localhost:8080/"
        },
        "id": "D2rbpzwKDJWy",
        "outputId": "123df5f5-aac4-4fe5-fe91-822969a59bd7"
      },
      "source": [
        "president_df.columns"
      ],
      "execution_count": 13,
      "outputs": [
        {
          "output_type": "execute_result",
          "data": {
            "text/plain": [
              "Index(['order', 'age', 'height', 'party'], dtype='object')"
            ]
          },
          "metadata": {
            "tags": []
          },
          "execution_count": 13
        }
      ]
    },
    {
      "cell_type": "code",
      "metadata": {
        "colab": {
          "base_uri": "https://localhost:8080/"
        },
        "id": "RVyi2rDHPA51",
        "outputId": "bfe4ab06-5605-427e-9dd6-b2580cd1c6d0"
      },
      "source": [
        "president_df['height']"
      ],
      "execution_count": 14,
      "outputs": [
        {
          "output_type": "execute_result",
          "data": {
            "text/plain": [
              "name\n",
              "George Washington         189\n",
              "John Adams                170\n",
              "Thomas Jefferson          189\n",
              "James Madison             163\n",
              "James Monroe              183\n",
              "John Quincy Adams         171\n",
              "Andrew Jackson            185\n",
              "Martin Van Buren          168\n",
              "William Henry Harrison    173\n",
              "John Tyler                183\n",
              "James K. Polk             173\n",
              "Zachary Taylor            173\n",
              "Millard Fillmore          175\n",
              "Franklin Pierce           178\n",
              "James Buchanan            183\n",
              "Abraham Lincoln           193\n",
              "Andrew Johnson            178\n",
              "Ulysses S. Grant          173\n",
              "Rutherford B. Hayes       174\n",
              "James A. Garfield         183\n",
              "Chester A. Arthur         183\n",
              "Grover Cleveland          180\n",
              "Benjamin Harrison         168\n",
              "Grover Cleveland          180\n",
              "William McKinley          170\n",
              "Theodore Roosevelt        178\n",
              "William Howard Taft       182\n",
              "Woodrow Wilson            180\n",
              "Warren G. Harding         183\n",
              "Calvin Coolidge           178\n",
              "Herbert Hoover            182\n",
              "Franklin D. Roosevelt     188\n",
              "Harry S. Truman           175\n",
              "Dwight D. Eisenhower      179\n",
              "John F. Kennedy           183\n",
              "Lyndon B. Johnson         193\n",
              "Richard Nixon             182\n",
              "Gerald Ford               183\n",
              "Jimmy Carter              177\n",
              "Ronald Reagan             185\n",
              "George H. W. Bush         188\n",
              "Bill Clinton              188\n",
              "George W. Bush            182\n",
              "Barack Obama              185\n",
              "Donald J. Trump           191\n",
              "Name: height, dtype: int64"
            ]
          },
          "metadata": {
            "tags": []
          },
          "execution_count": 14
        }
      ]
    },
    {
      "cell_type": "code",
      "metadata": {
        "colab": {
          "base_uri": "https://localhost:8080/"
        },
        "id": "eWMIzI68PG5O",
        "outputId": "549017fc-0c3f-4d49-a6c8-c28d606efd17"
      },
      "source": [
        "president_df['height'].shape"
      ],
      "execution_count": 15,
      "outputs": [
        {
          "output_type": "execute_result",
          "data": {
            "text/plain": [
              "(45,)"
            ]
          },
          "metadata": {
            "tags": []
          },
          "execution_count": 15
        }
      ]
    },
    {
      "cell_type": "code",
      "metadata": {
        "colab": {
          "base_uri": "https://localhost:8080/",
          "height": 173
        },
        "id": "7BGADk1LQBbu",
        "outputId": "d07ded00-2707-4559-c67a-372221247560"
      },
      "source": [
        "president_df[['height', 'party']].head(3)"
      ],
      "execution_count": 16,
      "outputs": [
        {
          "output_type": "execute_result",
          "data": {
            "text/html": [
              "<div>\n",
              "<style scoped>\n",
              "    .dataframe tbody tr th:only-of-type {\n",
              "        vertical-align: middle;\n",
              "    }\n",
              "\n",
              "    .dataframe tbody tr th {\n",
              "        vertical-align: top;\n",
              "    }\n",
              "\n",
              "    .dataframe thead th {\n",
              "        text-align: right;\n",
              "    }\n",
              "</style>\n",
              "<table border=\"1\" class=\"dataframe\">\n",
              "  <thead>\n",
              "    <tr style=\"text-align: right;\">\n",
              "      <th></th>\n",
              "      <th>height</th>\n",
              "      <th>party</th>\n",
              "    </tr>\n",
              "    <tr>\n",
              "      <th>name</th>\n",
              "      <th></th>\n",
              "      <th></th>\n",
              "    </tr>\n",
              "  </thead>\n",
              "  <tbody>\n",
              "    <tr>\n",
              "      <th>George Washington</th>\n",
              "      <td>189</td>\n",
              "      <td>none</td>\n",
              "    </tr>\n",
              "    <tr>\n",
              "      <th>John Adams</th>\n",
              "      <td>170</td>\n",
              "      <td>federalist</td>\n",
              "    </tr>\n",
              "    <tr>\n",
              "      <th>Thomas Jefferson</th>\n",
              "      <td>189</td>\n",
              "      <td>democratic-republican</td>\n",
              "    </tr>\n",
              "  </tbody>\n",
              "</table>\n",
              "</div>"
            ],
            "text/plain": [
              "                   height                  party\n",
              "name                                            \n",
              "George Washington     189                   none\n",
              "John Adams            170             federalist\n",
              "Thomas Jefferson      189  democratic-republican"
            ]
          },
          "metadata": {
            "tags": []
          },
          "execution_count": 16
        }
      ]
    },
    {
      "cell_type": "code",
      "metadata": {
        "colab": {
          "base_uri": "https://localhost:8080/"
        },
        "id": "MiBSER0PQXOx",
        "outputId": "a58461e5-c479-4e7a-ca3b-2a15fe51ab05"
      },
      "source": [
        "president_df['age']"
      ],
      "execution_count": 17,
      "outputs": [
        {
          "output_type": "execute_result",
          "data": {
            "text/plain": [
              "name\n",
              "George Washington         57\n",
              "John Adams                61\n",
              "Thomas Jefferson          57\n",
              "James Madison             57\n",
              "James Monroe              58\n",
              "John Quincy Adams         57\n",
              "Andrew Jackson            61\n",
              "Martin Van Buren          54\n",
              "William Henry Harrison    68\n",
              "John Tyler                51\n",
              "James K. Polk             49\n",
              "Zachary Taylor            64\n",
              "Millard Fillmore          50\n",
              "Franklin Pierce           48\n",
              "James Buchanan            65\n",
              "Abraham Lincoln           52\n",
              "Andrew Johnson            56\n",
              "Ulysses S. Grant          46\n",
              "Rutherford B. Hayes       54\n",
              "James A. Garfield         49\n",
              "Chester A. Arthur         51\n",
              "Grover Cleveland          47\n",
              "Benjamin Harrison         55\n",
              "Grover Cleveland          55\n",
              "William McKinley          54\n",
              "Theodore Roosevelt        42\n",
              "William Howard Taft       51\n",
              "Woodrow Wilson            56\n",
              "Warren G. Harding         55\n",
              "Calvin Coolidge           51\n",
              "Herbert Hoover            54\n",
              "Franklin D. Roosevelt     51\n",
              "Harry S. Truman           60\n",
              "Dwight D. Eisenhower      62\n",
              "John F. Kennedy           43\n",
              "Lyndon B. Johnson         55\n",
              "Richard Nixon             56\n",
              "Gerald Ford               61\n",
              "Jimmy Carter              52\n",
              "Ronald Reagan             69\n",
              "George H. W. Bush         64\n",
              "Bill Clinton              46\n",
              "George W. Bush            54\n",
              "Barack Obama              47\n",
              "Donald J. Trump           70\n",
              "Name: age, dtype: int64"
            ]
          },
          "metadata": {
            "tags": []
          },
          "execution_count": 17
        }
      ]
    },
    {
      "cell_type": "code",
      "metadata": {
        "colab": {
          "base_uri": "https://localhost:8080/",
          "height": 173
        },
        "id": "dXp_cqcrQ04t",
        "outputId": "86940377-5b6a-4878-f39f-d9a25b86aa99"
      },
      "source": [
        "president_df.loc[:, 'age':'height'].head(3)"
      ],
      "execution_count": 18,
      "outputs": [
        {
          "output_type": "execute_result",
          "data": {
            "text/html": [
              "<div>\n",
              "<style scoped>\n",
              "    .dataframe tbody tr th:only-of-type {\n",
              "        vertical-align: middle;\n",
              "    }\n",
              "\n",
              "    .dataframe tbody tr th {\n",
              "        vertical-align: top;\n",
              "    }\n",
              "\n",
              "    .dataframe thead th {\n",
              "        text-align: right;\n",
              "    }\n",
              "</style>\n",
              "<table border=\"1\" class=\"dataframe\">\n",
              "  <thead>\n",
              "    <tr style=\"text-align: right;\">\n",
              "      <th></th>\n",
              "      <th>age</th>\n",
              "      <th>height</th>\n",
              "    </tr>\n",
              "    <tr>\n",
              "      <th>name</th>\n",
              "      <th></th>\n",
              "      <th></th>\n",
              "    </tr>\n",
              "  </thead>\n",
              "  <tbody>\n",
              "    <tr>\n",
              "      <th>George Washington</th>\n",
              "      <td>57</td>\n",
              "      <td>189</td>\n",
              "    </tr>\n",
              "    <tr>\n",
              "      <th>John Adams</th>\n",
              "      <td>61</td>\n",
              "      <td>170</td>\n",
              "    </tr>\n",
              "    <tr>\n",
              "      <th>Thomas Jefferson</th>\n",
              "      <td>57</td>\n",
              "      <td>189</td>\n",
              "    </tr>\n",
              "  </tbody>\n",
              "</table>\n",
              "</div>"
            ],
            "text/plain": [
              "                   age  height\n",
              "name                          \n",
              "George Washington   57     189\n",
              "John Adams          61     170\n",
              "Thomas Jefferson    57     189"
            ]
          },
          "metadata": {
            "tags": []
          },
          "execution_count": 18
        }
      ]
    },
    {
      "cell_type": "code",
      "metadata": {
        "colab": {
          "base_uri": "https://localhost:8080/"
        },
        "id": "3_Owh8ajRTaY",
        "outputId": "fe932d5f-3611-4318-8fab-80d5c7328a88"
      },
      "source": [
        "president_df.min()"
      ],
      "execution_count": 19,
      "outputs": [
        {
          "output_type": "execute_result",
          "data": {
            "text/plain": [
              "order              1\n",
              "age               42\n",
              "height           163\n",
              "party     democratic\n",
              "dtype: object"
            ]
          },
          "metadata": {
            "tags": []
          },
          "execution_count": 19
        }
      ]
    },
    {
      "cell_type": "code",
      "metadata": {
        "colab": {
          "base_uri": "https://localhost:8080/"
        },
        "id": "JllrKcitYCrN",
        "outputId": "8f408c45-d9d2-4758-e702-ca9ce82a976e"
      },
      "source": [
        "president_df.max()"
      ],
      "execution_count": 20,
      "outputs": [
        {
          "output_type": "execute_result",
          "data": {
            "text/plain": [
              "order       45\n",
              "age         70\n",
              "height     193\n",
              "party     whig\n",
              "dtype: object"
            ]
          },
          "metadata": {
            "tags": []
          },
          "execution_count": 20
        }
      ]
    },
    {
      "cell_type": "code",
      "metadata": {
        "colab": {
          "base_uri": "https://localhost:8080/"
        },
        "id": "ncIUsbwvYFnp",
        "outputId": "691d7aa7-4356-4123-faa0-33c1d1165cc3"
      },
      "source": [
        "president_df.mean()"
      ],
      "execution_count": 21,
      "outputs": [
        {
          "output_type": "execute_result",
          "data": {
            "text/plain": [
              "order      23.022222\n",
              "age        55.000000\n",
              "height    180.000000\n",
              "dtype: float64"
            ]
          },
          "metadata": {
            "tags": []
          },
          "execution_count": 21
        }
      ]
    },
    {
      "cell_type": "code",
      "metadata": {
        "colab": {
          "base_uri": "https://localhost:8080/"
        },
        "id": "AGsdMtuFYKNg",
        "outputId": "6e081a64-bffc-4ef6-9409-68c06c44e09a"
      },
      "source": [
        "\r\n",
        "president_df['age'].mean()"
      ],
      "execution_count": 22,
      "outputs": [
        {
          "output_type": "execute_result",
          "data": {
            "text/plain": [
              "55.0"
            ]
          },
          "metadata": {
            "tags": []
          },
          "execution_count": 22
        }
      ]
    },
    {
      "cell_type": "code",
      "metadata": {
        "colab": {
          "base_uri": "https://localhost:8080/"
        },
        "id": "FzdxBRTEYN-2",
        "outputId": "1a7a20d1-145d-46a5-b9d3-3121761f6583"
      },
      "source": [
        "series = pd.Series([1, 2, 1, 4, 2])\r\n",
        "\r\n",
        "series.mean()"
      ],
      "execution_count": 23,
      "outputs": [
        {
          "output_type": "execute_result",
          "data": {
            "text/plain": [
              "2.0"
            ]
          },
          "metadata": {
            "tags": []
          },
          "execution_count": 23
        }
      ]
    },
    {
      "cell_type": "code",
      "metadata": {
        "colab": {
          "base_uri": "https://localhost:8080/"
        },
        "id": "Fw0_BxRPb6T2",
        "outputId": "46c63af8-5833-4cf6-ea75-bc36480a9b4f"
      },
      "source": [
        "series.median()"
      ],
      "execution_count": 24,
      "outputs": [
        {
          "output_type": "execute_result",
          "data": {
            "text/plain": [
              "2.0"
            ]
          },
          "metadata": {
            "tags": []
          },
          "execution_count": 24
        }
      ]
    },
    {
      "cell_type": "code",
      "metadata": {
        "colab": {
          "base_uri": "https://localhost:8080/"
        },
        "id": "vVb79IPAZOno",
        "outputId": "4bcfe93d-d80c-491d-d227-963edfd86768"
      },
      "source": [
        "president_df['age'].quantile([0, 0.25, 0.5, 0.75, 1])"
      ],
      "execution_count": 25,
      "outputs": [
        {
          "output_type": "execute_result",
          "data": {
            "text/plain": [
              "0.00    42.0\n",
              "0.25    51.0\n",
              "0.50    55.0\n",
              "0.75    58.0\n",
              "1.00    70.0\n",
              "Name: age, dtype: float64"
            ]
          },
          "metadata": {
            "tags": []
          },
          "execution_count": 25
        }
      ]
    },
    {
      "cell_type": "code",
      "metadata": {
        "colab": {
          "base_uri": "https://localhost:8080/"
        },
        "id": "SYirGr9XbCW_",
        "outputId": "8b22d9af-546d-43a0-99a2-d1fe0b2460b6"
      },
      "source": [
        "president_df['age'].mean()"
      ],
      "execution_count": 26,
      "outputs": [
        {
          "output_type": "execute_result",
          "data": {
            "text/plain": [
              "55.0"
            ]
          },
          "metadata": {
            "tags": []
          },
          "execution_count": 26
        }
      ]
    },
    {
      "cell_type": "code",
      "metadata": {
        "colab": {
          "base_uri": "https://localhost:8080/"
        },
        "id": "E0E-yOuXbpPa",
        "outputId": "97b1c081-57d5-4256-8abb-51b603e54059"
      },
      "source": [
        "president_df['age'].median()"
      ],
      "execution_count": 27,
      "outputs": [
        {
          "output_type": "execute_result",
          "data": {
            "text/plain": [
              "55.0"
            ]
          },
          "metadata": {
            "tags": []
          },
          "execution_count": 27
        }
      ]
    },
    {
      "cell_type": "code",
      "metadata": {
        "colab": {
          "base_uri": "https://localhost:8080/"
        },
        "id": "LoDpMHOtbq89",
        "outputId": "5ba005a9-921f-41fb-ae1c-3e4cc3283bc2"
      },
      "source": [
        "president_df['height'].mean()"
      ],
      "execution_count": 28,
      "outputs": [
        {
          "output_type": "execute_result",
          "data": {
            "text/plain": [
              "180.0"
            ]
          },
          "metadata": {
            "tags": []
          },
          "execution_count": 28
        }
      ]
    },
    {
      "cell_type": "code",
      "metadata": {
        "colab": {
          "base_uri": "https://localhost:8080/"
        },
        "id": "klNtKra8btm8",
        "outputId": "3f324e8b-b0fa-4ab2-f155-a5634d45848a"
      },
      "source": [
        "president_df['height'].median()"
      ],
      "execution_count": 29,
      "outputs": [
        {
          "output_type": "execute_result",
          "data": {
            "text/plain": [
              "182.0"
            ]
          },
          "metadata": {
            "tags": []
          },
          "execution_count": 29
        }
      ]
    },
    {
      "cell_type": "code",
      "metadata": {
        "colab": {
          "base_uri": "https://localhost:8080/"
        },
        "id": "sDHfkJmmbw0B",
        "outputId": "7b1aab36-18d0-4c13-d224-7a4e070e6137"
      },
      "source": [
        "president_df['height'].var()"
      ],
      "execution_count": 30,
      "outputs": [
        {
          "output_type": "execute_result",
          "data": {
            "text/plain": [
              "48.68181818181818"
            ]
          },
          "metadata": {
            "tags": []
          },
          "execution_count": 30
        }
      ]
    },
    {
      "cell_type": "code",
      "metadata": {
        "colab": {
          "base_uri": "https://localhost:8080/"
        },
        "id": "8RLiAgB1c0lQ",
        "outputId": "962ace8a-5d39-427d-82b1-118ec120105a"
      },
      "source": [
        "president_df['height'].std()"
      ],
      "execution_count": 31,
      "outputs": [
        {
          "output_type": "execute_result",
          "data": {
            "text/plain": [
              "6.977235712072381"
            ]
          },
          "metadata": {
            "tags": []
          },
          "execution_count": 31
        }
      ]
    },
    {
      "cell_type": "code",
      "metadata": {
        "colab": {
          "base_uri": "https://localhost:8080/"
        },
        "id": "LWUF-Vqoc2KB",
        "outputId": "ca8e7ecd-9537-48eb-bfe8-c82bc85ad7b4"
      },
      "source": [
        "president_df.std()"
      ],
      "execution_count": 32,
      "outputs": [
        {
          "output_type": "execute_result",
          "data": {
            "text/plain": [
              "order     13.136502\n",
              "age        6.595453\n",
              "height     6.977236\n",
              "dtype: float64"
            ]
          },
          "metadata": {
            "tags": []
          },
          "execution_count": 32
        }
      ]
    },
    {
      "cell_type": "code",
      "metadata": {
        "colab": {
          "base_uri": "https://localhost:8080/",
          "height": 297
        },
        "id": "Y5j7lQP5c-fX",
        "outputId": "52ac77dc-e873-45fd-9f9a-d2f8987ddf22"
      },
      "source": [
        "president_df.describe()"
      ],
      "execution_count": 33,
      "outputs": [
        {
          "output_type": "execute_result",
          "data": {
            "text/html": [
              "<div>\n",
              "<style scoped>\n",
              "    .dataframe tbody tr th:only-of-type {\n",
              "        vertical-align: middle;\n",
              "    }\n",
              "\n",
              "    .dataframe tbody tr th {\n",
              "        vertical-align: top;\n",
              "    }\n",
              "\n",
              "    .dataframe thead th {\n",
              "        text-align: right;\n",
              "    }\n",
              "</style>\n",
              "<table border=\"1\" class=\"dataframe\">\n",
              "  <thead>\n",
              "    <tr style=\"text-align: right;\">\n",
              "      <th></th>\n",
              "      <th>order</th>\n",
              "      <th>age</th>\n",
              "      <th>height</th>\n",
              "    </tr>\n",
              "  </thead>\n",
              "  <tbody>\n",
              "    <tr>\n",
              "      <th>count</th>\n",
              "      <td>45.000000</td>\n",
              "      <td>45.000000</td>\n",
              "      <td>45.000000</td>\n",
              "    </tr>\n",
              "    <tr>\n",
              "      <th>mean</th>\n",
              "      <td>23.022222</td>\n",
              "      <td>55.000000</td>\n",
              "      <td>180.000000</td>\n",
              "    </tr>\n",
              "    <tr>\n",
              "      <th>std</th>\n",
              "      <td>13.136502</td>\n",
              "      <td>6.595453</td>\n",
              "      <td>6.977236</td>\n",
              "    </tr>\n",
              "    <tr>\n",
              "      <th>min</th>\n",
              "      <td>1.000000</td>\n",
              "      <td>42.000000</td>\n",
              "      <td>163.000000</td>\n",
              "    </tr>\n",
              "    <tr>\n",
              "      <th>25%</th>\n",
              "      <td>12.000000</td>\n",
              "      <td>51.000000</td>\n",
              "      <td>175.000000</td>\n",
              "    </tr>\n",
              "    <tr>\n",
              "      <th>50%</th>\n",
              "      <td>23.000000</td>\n",
              "      <td>55.000000</td>\n",
              "      <td>182.000000</td>\n",
              "    </tr>\n",
              "    <tr>\n",
              "      <th>75%</th>\n",
              "      <td>34.000000</td>\n",
              "      <td>58.000000</td>\n",
              "      <td>183.000000</td>\n",
              "    </tr>\n",
              "    <tr>\n",
              "      <th>max</th>\n",
              "      <td>45.000000</td>\n",
              "      <td>70.000000</td>\n",
              "      <td>193.000000</td>\n",
              "    </tr>\n",
              "  </tbody>\n",
              "</table>\n",
              "</div>"
            ],
            "text/plain": [
              "           order        age      height\n",
              "count  45.000000  45.000000   45.000000\n",
              "mean   23.022222  55.000000  180.000000\n",
              "std    13.136502   6.595453    6.977236\n",
              "min     1.000000  42.000000  163.000000\n",
              "25%    12.000000  51.000000  175.000000\n",
              "50%    23.000000  55.000000  182.000000\n",
              "75%    34.000000  58.000000  183.000000\n",
              "max    45.000000  70.000000  193.000000"
            ]
          },
          "metadata": {
            "tags": []
          },
          "execution_count": 33
        }
      ]
    },
    {
      "cell_type": "code",
      "metadata": {
        "colab": {
          "base_uri": "https://localhost:8080/"
        },
        "id": "cITSbr4_dGav",
        "outputId": "81c593c3-18c7-4f02-f5ca-82e7838a256b"
      },
      "source": [
        "president_df['party'].value_counts()"
      ],
      "execution_count": 34,
      "outputs": [
        {
          "output_type": "execute_result",
          "data": {
            "text/plain": [
              "republican               19\n",
              "democratic               15\n",
              "whig                      4\n",
              "democratic-republican     4\n",
              "national union            1\n",
              "federalist                1\n",
              "none                      1\n",
              "Name: party, dtype: int64"
            ]
          },
          "metadata": {
            "tags": []
          },
          "execution_count": 34
        }
      ]
    },
    {
      "cell_type": "code",
      "metadata": {
        "colab": {
          "base_uri": "https://localhost:8080/"
        },
        "id": "ZRTax-wKf_WX",
        "outputId": "8faea3f3-d4e8-4fd0-9e36-a1377858c55f"
      },
      "source": [
        "president_df['party'].describe()"
      ],
      "execution_count": 35,
      "outputs": [
        {
          "output_type": "execute_result",
          "data": {
            "text/plain": [
              "count             45\n",
              "unique             7\n",
              "top       republican\n",
              "freq              19\n",
              "Name: party, dtype: object"
            ]
          },
          "metadata": {
            "tags": []
          },
          "execution_count": 35
        }
      ]
    },
    {
      "cell_type": "code",
      "metadata": {
        "id": "nEqvS2LQgG2H"
      },
      "source": [
        "president_df.groupby('party');"
      ],
      "execution_count": 38,
      "outputs": []
    },
    {
      "cell_type": "code",
      "metadata": {
        "colab": {
          "base_uri": "https://localhost:8080/",
          "height": 297
        },
        "id": "vOLZtTy9ba11",
        "outputId": "e5ca6e5c-42b8-47fd-e800-774f60c0be25"
      },
      "source": [
        "president_df.groupby('party').mean()"
      ],
      "execution_count": 39,
      "outputs": [
        {
          "output_type": "execute_result",
          "data": {
            "text/html": [
              "<div>\n",
              "<style scoped>\n",
              "    .dataframe tbody tr th:only-of-type {\n",
              "        vertical-align: middle;\n",
              "    }\n",
              "\n",
              "    .dataframe tbody tr th {\n",
              "        vertical-align: top;\n",
              "    }\n",
              "\n",
              "    .dataframe thead th {\n",
              "        text-align: right;\n",
              "    }\n",
              "</style>\n",
              "<table border=\"1\" class=\"dataframe\">\n",
              "  <thead>\n",
              "    <tr style=\"text-align: right;\">\n",
              "      <th></th>\n",
              "      <th>order</th>\n",
              "      <th>age</th>\n",
              "      <th>height</th>\n",
              "    </tr>\n",
              "    <tr>\n",
              "      <th>party</th>\n",
              "      <th></th>\n",
              "      <th></th>\n",
              "      <th></th>\n",
              "    </tr>\n",
              "  </thead>\n",
              "  <tbody>\n",
              "    <tr>\n",
              "      <th>democratic</th>\n",
              "      <td>26.066667</td>\n",
              "      <td>52.600000</td>\n",
              "      <td>181.066667</td>\n",
              "    </tr>\n",
              "    <tr>\n",
              "      <th>democratic-republican</th>\n",
              "      <td>4.500000</td>\n",
              "      <td>57.250000</td>\n",
              "      <td>176.500000</td>\n",
              "    </tr>\n",
              "    <tr>\n",
              "      <th>federalist</th>\n",
              "      <td>2.000000</td>\n",
              "      <td>61.000000</td>\n",
              "      <td>170.000000</td>\n",
              "    </tr>\n",
              "    <tr>\n",
              "      <th>national union</th>\n",
              "      <td>17.000000</td>\n",
              "      <td>56.000000</td>\n",
              "      <td>178.000000</td>\n",
              "    </tr>\n",
              "    <tr>\n",
              "      <th>none</th>\n",
              "      <td>1.000000</td>\n",
              "      <td>57.000000</td>\n",
              "      <td>189.000000</td>\n",
              "    </tr>\n",
              "    <tr>\n",
              "      <th>republican</th>\n",
              "      <td>29.631579</td>\n",
              "      <td>55.263158</td>\n",
              "      <td>180.894737</td>\n",
              "    </tr>\n",
              "    <tr>\n",
              "      <th>whig</th>\n",
              "      <td>11.000000</td>\n",
              "      <td>58.250000</td>\n",
              "      <td>176.000000</td>\n",
              "    </tr>\n",
              "  </tbody>\n",
              "</table>\n",
              "</div>"
            ],
            "text/plain": [
              "                           order        age      height\n",
              "party                                                  \n",
              "democratic             26.066667  52.600000  181.066667\n",
              "democratic-republican   4.500000  57.250000  176.500000\n",
              "federalist              2.000000  61.000000  170.000000\n",
              "national union         17.000000  56.000000  178.000000\n",
              "none                    1.000000  57.000000  189.000000\n",
              "republican             29.631579  55.263158  180.894737\n",
              "whig                   11.000000  58.250000  176.000000"
            ]
          },
          "metadata": {
            "tags": []
          },
          "execution_count": 39
        }
      ]
    },
    {
      "cell_type": "code",
      "metadata": {
        "colab": {
          "base_uri": "https://localhost:8080/"
        },
        "id": "QCJDjrV7b-oF",
        "outputId": "4e25c859-1b75-405f-ec3c-b2a4375b1b7e"
      },
      "source": [
        "president_df.groupby('party').indices"
      ],
      "execution_count": 47,
      "outputs": [
        {
          "output_type": "execute_result",
          "data": {
            "text/plain": [
              "{'democratic': array([ 6,  7, 10, 13, 14, 21, 23, 27, 31, 32, 34, 35, 38, 41, 43]),\n",
              " 'democratic-republican': array([2, 3, 4, 5]),\n",
              " 'federalist': array([1]),\n",
              " 'national union': array([16]),\n",
              " 'none': array([0]),\n",
              " 'republican': array([15, 17, 18, 19, 20, 22, 24, 25, 26, 28, 29, 30, 33, 36, 37, 39, 40,\n",
              "        42, 44]),\n",
              " 'whig': array([ 8,  9, 11, 12])}"
            ]
          },
          "metadata": {
            "tags": []
          },
          "execution_count": 47
        }
      ]
    },
    {
      "cell_type": "code",
      "metadata": {
        "colab": {
          "base_uri": "https://localhost:8080/"
        },
        "id": "yHqwXqT8cs1Q",
        "outputId": "3b088b45-f5f4-4ddd-9c89-4610f11032bf"
      },
      "source": [
        "president_df.groupby('party').groups"
      ],
      "execution_count": 48,
      "outputs": [
        {
          "output_type": "execute_result",
          "data": {
            "text/plain": [
              "{'democratic': ['Andrew Jackson', 'Martin Van Buren', 'James K. Polk', 'Franklin Pierce', 'James Buchanan', 'Grover Cleveland', 'Grover Cleveland', 'Woodrow Wilson', 'Franklin D. Roosevelt', 'Harry S. Truman', 'John F. Kennedy', 'Lyndon B. Johnson', 'Jimmy Carter', 'Bill Clinton', 'Barack Obama'], 'democratic-republican': ['Thomas Jefferson', 'James Madison', 'James Monroe', 'John Quincy Adams'], 'federalist': ['John Adams'], 'national union': ['Andrew Johnson'], 'none': ['George Washington'], 'republican': ['Abraham Lincoln', 'Ulysses S. Grant', 'Rutherford B. Hayes', 'James A. Garfield', 'Chester A. Arthur', 'Benjamin Harrison', 'William McKinley', 'Theodore Roosevelt', 'William Howard Taft', 'Warren G. Harding', 'Calvin Coolidge', 'Herbert Hoover', 'Dwight D. Eisenhower', 'Richard Nixon', 'Gerald Ford', 'Ronald Reagan', 'George H. W. Bush', 'George W. Bush', 'Donald J. Trump'], 'whig': ['William Henry Harrison', 'John Tyler', 'Zachary Taylor', 'Millard Fillmore']}"
            ]
          },
          "metadata": {
            "tags": []
          },
          "execution_count": 48
        }
      ]
    },
    {
      "cell_type": "code",
      "metadata": {
        "colab": {
          "base_uri": "https://localhost:8080/",
          "height": 297
        },
        "id": "chR6CgJzdmH3",
        "outputId": "8676aebf-0c73-4fca-f5d7-be749db0ce63"
      },
      "source": [
        "president_df.groupby('party').all()"
      ],
      "execution_count": 49,
      "outputs": [
        {
          "output_type": "execute_result",
          "data": {
            "text/html": [
              "<div>\n",
              "<style scoped>\n",
              "    .dataframe tbody tr th:only-of-type {\n",
              "        vertical-align: middle;\n",
              "    }\n",
              "\n",
              "    .dataframe tbody tr th {\n",
              "        vertical-align: top;\n",
              "    }\n",
              "\n",
              "    .dataframe thead th {\n",
              "        text-align: right;\n",
              "    }\n",
              "</style>\n",
              "<table border=\"1\" class=\"dataframe\">\n",
              "  <thead>\n",
              "    <tr style=\"text-align: right;\">\n",
              "      <th></th>\n",
              "      <th>order</th>\n",
              "      <th>age</th>\n",
              "      <th>height</th>\n",
              "    </tr>\n",
              "    <tr>\n",
              "      <th>party</th>\n",
              "      <th></th>\n",
              "      <th></th>\n",
              "      <th></th>\n",
              "    </tr>\n",
              "  </thead>\n",
              "  <tbody>\n",
              "    <tr>\n",
              "      <th>democratic</th>\n",
              "      <td>True</td>\n",
              "      <td>True</td>\n",
              "      <td>True</td>\n",
              "    </tr>\n",
              "    <tr>\n",
              "      <th>democratic-republican</th>\n",
              "      <td>True</td>\n",
              "      <td>True</td>\n",
              "      <td>True</td>\n",
              "    </tr>\n",
              "    <tr>\n",
              "      <th>federalist</th>\n",
              "      <td>True</td>\n",
              "      <td>True</td>\n",
              "      <td>True</td>\n",
              "    </tr>\n",
              "    <tr>\n",
              "      <th>national union</th>\n",
              "      <td>True</td>\n",
              "      <td>True</td>\n",
              "      <td>True</td>\n",
              "    </tr>\n",
              "    <tr>\n",
              "      <th>none</th>\n",
              "      <td>True</td>\n",
              "      <td>True</td>\n",
              "      <td>True</td>\n",
              "    </tr>\n",
              "    <tr>\n",
              "      <th>republican</th>\n",
              "      <td>True</td>\n",
              "      <td>True</td>\n",
              "      <td>True</td>\n",
              "    </tr>\n",
              "    <tr>\n",
              "      <th>whig</th>\n",
              "      <td>True</td>\n",
              "      <td>True</td>\n",
              "      <td>True</td>\n",
              "    </tr>\n",
              "  </tbody>\n",
              "</table>\n",
              "</div>"
            ],
            "text/plain": [
              "                       order   age  height\n",
              "party                                     \n",
              "democratic              True  True    True\n",
              "democratic-republican   True  True    True\n",
              "federalist              True  True    True\n",
              "national union          True  True    True\n",
              "none                    True  True    True\n",
              "republican              True  True    True\n",
              "whig                    True  True    True"
            ]
          },
          "metadata": {
            "tags": []
          },
          "execution_count": 49
        }
      ]
    },
    {
      "cell_type": "code",
      "metadata": {
        "colab": {
          "base_uri": "https://localhost:8080/",
          "height": 382
        },
        "id": "2f_BQpIBdyHE",
        "outputId": "1deb0b80-975b-44e6-9d57-9473687c619c"
      },
      "source": [
        "president_df.groupby('party').describe()"
      ],
      "execution_count": 50,
      "outputs": [
        {
          "output_type": "execute_result",
          "data": {
            "text/html": [
              "<div>\n",
              "<style scoped>\n",
              "    .dataframe tbody tr th:only-of-type {\n",
              "        vertical-align: middle;\n",
              "    }\n",
              "\n",
              "    .dataframe tbody tr th {\n",
              "        vertical-align: top;\n",
              "    }\n",
              "\n",
              "    .dataframe thead tr th {\n",
              "        text-align: left;\n",
              "    }\n",
              "\n",
              "    .dataframe thead tr:last-of-type th {\n",
              "        text-align: right;\n",
              "    }\n",
              "</style>\n",
              "<table border=\"1\" class=\"dataframe\">\n",
              "  <thead>\n",
              "    <tr>\n",
              "      <th></th>\n",
              "      <th colspan=\"8\" halign=\"left\">order</th>\n",
              "      <th colspan=\"8\" halign=\"left\">age</th>\n",
              "      <th colspan=\"8\" halign=\"left\">height</th>\n",
              "    </tr>\n",
              "    <tr>\n",
              "      <th></th>\n",
              "      <th>count</th>\n",
              "      <th>mean</th>\n",
              "      <th>std</th>\n",
              "      <th>min</th>\n",
              "      <th>25%</th>\n",
              "      <th>50%</th>\n",
              "      <th>75%</th>\n",
              "      <th>max</th>\n",
              "      <th>count</th>\n",
              "      <th>mean</th>\n",
              "      <th>std</th>\n",
              "      <th>min</th>\n",
              "      <th>25%</th>\n",
              "      <th>50%</th>\n",
              "      <th>75%</th>\n",
              "      <th>max</th>\n",
              "      <th>count</th>\n",
              "      <th>mean</th>\n",
              "      <th>std</th>\n",
              "      <th>min</th>\n",
              "      <th>25%</th>\n",
              "      <th>50%</th>\n",
              "      <th>75%</th>\n",
              "      <th>max</th>\n",
              "    </tr>\n",
              "    <tr>\n",
              "      <th>party</th>\n",
              "      <th></th>\n",
              "      <th></th>\n",
              "      <th></th>\n",
              "      <th></th>\n",
              "      <th></th>\n",
              "      <th></th>\n",
              "      <th></th>\n",
              "      <th></th>\n",
              "      <th></th>\n",
              "      <th></th>\n",
              "      <th></th>\n",
              "      <th></th>\n",
              "      <th></th>\n",
              "      <th></th>\n",
              "      <th></th>\n",
              "      <th></th>\n",
              "      <th></th>\n",
              "      <th></th>\n",
              "      <th></th>\n",
              "      <th></th>\n",
              "      <th></th>\n",
              "      <th></th>\n",
              "      <th></th>\n",
              "      <th></th>\n",
              "    </tr>\n",
              "  </thead>\n",
              "  <tbody>\n",
              "    <tr>\n",
              "      <th>democratic</th>\n",
              "      <td>15.0</td>\n",
              "      <td>26.066667</td>\n",
              "      <td>12.566774</td>\n",
              "      <td>7.0</td>\n",
              "      <td>14.50</td>\n",
              "      <td>28.0</td>\n",
              "      <td>35.50</td>\n",
              "      <td>44.0</td>\n",
              "      <td>15.0</td>\n",
              "      <td>52.600000</td>\n",
              "      <td>6.208289</td>\n",
              "      <td>43.0</td>\n",
              "      <td>47.50</td>\n",
              "      <td>52.0</td>\n",
              "      <td>55.50</td>\n",
              "      <td>65.0</td>\n",
              "      <td>15.0</td>\n",
              "      <td>181.066667</td>\n",
              "      <td>6.430582</td>\n",
              "      <td>168.0</td>\n",
              "      <td>177.5</td>\n",
              "      <td>180.0</td>\n",
              "      <td>185.0</td>\n",
              "      <td>193.0</td>\n",
              "    </tr>\n",
              "    <tr>\n",
              "      <th>democratic-republican</th>\n",
              "      <td>4.0</td>\n",
              "      <td>4.500000</td>\n",
              "      <td>1.290994</td>\n",
              "      <td>3.0</td>\n",
              "      <td>3.75</td>\n",
              "      <td>4.5</td>\n",
              "      <td>5.25</td>\n",
              "      <td>6.0</td>\n",
              "      <td>4.0</td>\n",
              "      <td>57.250000</td>\n",
              "      <td>0.500000</td>\n",
              "      <td>57.0</td>\n",
              "      <td>57.00</td>\n",
              "      <td>57.0</td>\n",
              "      <td>57.25</td>\n",
              "      <td>58.0</td>\n",
              "      <td>4.0</td>\n",
              "      <td>176.500000</td>\n",
              "      <td>11.704700</td>\n",
              "      <td>163.0</td>\n",
              "      <td>169.0</td>\n",
              "      <td>177.0</td>\n",
              "      <td>184.5</td>\n",
              "      <td>189.0</td>\n",
              "    </tr>\n",
              "    <tr>\n",
              "      <th>federalist</th>\n",
              "      <td>1.0</td>\n",
              "      <td>2.000000</td>\n",
              "      <td>NaN</td>\n",
              "      <td>2.0</td>\n",
              "      <td>2.00</td>\n",
              "      <td>2.0</td>\n",
              "      <td>2.00</td>\n",
              "      <td>2.0</td>\n",
              "      <td>1.0</td>\n",
              "      <td>61.000000</td>\n",
              "      <td>NaN</td>\n",
              "      <td>61.0</td>\n",
              "      <td>61.00</td>\n",
              "      <td>61.0</td>\n",
              "      <td>61.00</td>\n",
              "      <td>61.0</td>\n",
              "      <td>1.0</td>\n",
              "      <td>170.000000</td>\n",
              "      <td>NaN</td>\n",
              "      <td>170.0</td>\n",
              "      <td>170.0</td>\n",
              "      <td>170.0</td>\n",
              "      <td>170.0</td>\n",
              "      <td>170.0</td>\n",
              "    </tr>\n",
              "    <tr>\n",
              "      <th>national union</th>\n",
              "      <td>1.0</td>\n",
              "      <td>17.000000</td>\n",
              "      <td>NaN</td>\n",
              "      <td>17.0</td>\n",
              "      <td>17.00</td>\n",
              "      <td>17.0</td>\n",
              "      <td>17.00</td>\n",
              "      <td>17.0</td>\n",
              "      <td>1.0</td>\n",
              "      <td>56.000000</td>\n",
              "      <td>NaN</td>\n",
              "      <td>56.0</td>\n",
              "      <td>56.00</td>\n",
              "      <td>56.0</td>\n",
              "      <td>56.00</td>\n",
              "      <td>56.0</td>\n",
              "      <td>1.0</td>\n",
              "      <td>178.000000</td>\n",
              "      <td>NaN</td>\n",
              "      <td>178.0</td>\n",
              "      <td>178.0</td>\n",
              "      <td>178.0</td>\n",
              "      <td>178.0</td>\n",
              "      <td>178.0</td>\n",
              "    </tr>\n",
              "    <tr>\n",
              "      <th>none</th>\n",
              "      <td>1.0</td>\n",
              "      <td>1.000000</td>\n",
              "      <td>NaN</td>\n",
              "      <td>1.0</td>\n",
              "      <td>1.00</td>\n",
              "      <td>1.0</td>\n",
              "      <td>1.00</td>\n",
              "      <td>1.0</td>\n",
              "      <td>1.0</td>\n",
              "      <td>57.000000</td>\n",
              "      <td>NaN</td>\n",
              "      <td>57.0</td>\n",
              "      <td>57.00</td>\n",
              "      <td>57.0</td>\n",
              "      <td>57.00</td>\n",
              "      <td>57.0</td>\n",
              "      <td>1.0</td>\n",
              "      <td>189.000000</td>\n",
              "      <td>NaN</td>\n",
              "      <td>189.0</td>\n",
              "      <td>189.0</td>\n",
              "      <td>189.0</td>\n",
              "      <td>189.0</td>\n",
              "      <td>189.0</td>\n",
              "    </tr>\n",
              "    <tr>\n",
              "      <th>republican</th>\n",
              "      <td>19.0</td>\n",
              "      <td>29.631579</td>\n",
              "      <td>9.081180</td>\n",
              "      <td>16.0</td>\n",
              "      <td>22.00</td>\n",
              "      <td>29.0</td>\n",
              "      <td>37.50</td>\n",
              "      <td>45.0</td>\n",
              "      <td>19.0</td>\n",
              "      <td>55.263158</td>\n",
              "      <td>7.202176</td>\n",
              "      <td>42.0</td>\n",
              "      <td>51.00</td>\n",
              "      <td>54.0</td>\n",
              "      <td>58.50</td>\n",
              "      <td>70.0</td>\n",
              "      <td>19.0</td>\n",
              "      <td>180.894737</td>\n",
              "      <td>6.471259</td>\n",
              "      <td>168.0</td>\n",
              "      <td>178.0</td>\n",
              "      <td>182.0</td>\n",
              "      <td>183.0</td>\n",
              "      <td>193.0</td>\n",
              "    </tr>\n",
              "    <tr>\n",
              "      <th>whig</th>\n",
              "      <td>4.0</td>\n",
              "      <td>11.000000</td>\n",
              "      <td>1.825742</td>\n",
              "      <td>9.0</td>\n",
              "      <td>9.75</td>\n",
              "      <td>11.0</td>\n",
              "      <td>12.25</td>\n",
              "      <td>13.0</td>\n",
              "      <td>4.0</td>\n",
              "      <td>58.250000</td>\n",
              "      <td>9.105859</td>\n",
              "      <td>50.0</td>\n",
              "      <td>50.75</td>\n",
              "      <td>57.5</td>\n",
              "      <td>65.00</td>\n",
              "      <td>68.0</td>\n",
              "      <td>4.0</td>\n",
              "      <td>176.000000</td>\n",
              "      <td>4.760952</td>\n",
              "      <td>173.0</td>\n",
              "      <td>173.0</td>\n",
              "      <td>174.0</td>\n",
              "      <td>177.0</td>\n",
              "      <td>183.0</td>\n",
              "    </tr>\n",
              "  </tbody>\n",
              "</table>\n",
              "</div>"
            ],
            "text/plain": [
              "                      order                        ... height              \n",
              "                      count       mean        std  ...    50%    75%    max\n",
              "party                                              ...                     \n",
              "democratic             15.0  26.066667  12.566774  ...  180.0  185.0  193.0\n",
              "democratic-republican   4.0   4.500000   1.290994  ...  177.0  184.5  189.0\n",
              "federalist              1.0   2.000000        NaN  ...  170.0  170.0  170.0\n",
              "national union          1.0  17.000000        NaN  ...  178.0  178.0  178.0\n",
              "none                    1.0   1.000000        NaN  ...  189.0  189.0  189.0\n",
              "republican             19.0  29.631579   9.081180  ...  182.0  183.0  193.0\n",
              "whig                    4.0  11.000000   1.825742  ...  174.0  177.0  183.0\n",
              "\n",
              "[7 rows x 24 columns]"
            ]
          },
          "metadata": {
            "tags": []
          },
          "execution_count": 50
        }
      ]
    },
    {
      "cell_type": "code",
      "metadata": {
        "colab": {
          "base_uri": "https://localhost:8080/",
          "height": 1000
        },
        "id": "fjDxumV9eDsH",
        "outputId": "59f0e559-0a1a-4a9e-8b17-3cdda3b93881"
      },
      "source": [
        "president_df.groupby('party').hist()"
      ],
      "execution_count": 52,
      "outputs": [
        {
          "output_type": "execute_result",
          "data": {
            "text/plain": [
              "party\n",
              "democratic               [[AxesSubplot(0.125,0.551739;0.336957x0.328261...\n",
              "democratic-republican    [[AxesSubplot(0.125,0.551739;0.336957x0.328261...\n",
              "federalist               [[AxesSubplot(0.125,0.551739;0.336957x0.328261...\n",
              "national union           [[AxesSubplot(0.125,0.551739;0.336957x0.328261...\n",
              "none                     [[AxesSubplot(0.125,0.551739;0.336957x0.328261...\n",
              "republican               [[AxesSubplot(0.125,0.551739;0.336957x0.328261...\n",
              "whig                     [[AxesSubplot(0.125,0.551739;0.336957x0.328261...\n",
              "dtype: object"
            ]
          },
          "metadata": {
            "tags": []
          },
          "execution_count": 52
        },
        {
          "output_type": "display_data",
          "data": {
            "image/png": "[encoded data removed]",
            "text/plain": [
              "<Figure size 432x288 with 4 Axes>"
            ]
          },
          "metadata": {
            "tags": [],
            "needs_background": "light"
          }
        },
        {
          "output_type": "display_data",
          "data": {
            "image/png": "[encoded data removed]",
            "text/plain": [
              "<Figure size 432x288 with 4 Axes>"
            ]
          },
          "metadata": {
            "tags": [],
            "needs_background": "light"
          }
        },
        {
          "output_type": "display_data",
          "data": {
            "image/png": "[encoded data removed]",
            "text/plain": [
              "<Figure size 432x288 with 4 Axes>"
            ]
          },
          "metadata": {
            "tags": [],
            "needs_background": "light"
          }
        },
        {
          "output_type": "display_data",
          "data": {
            "image/png": "[encoded data removed]",
            "text/plain": [
              "<Figure size 432x288 with 4 Axes>"
            ]
          },
          "metadata": {
            "tags": [],
            "needs_background": "light"
          }
        },
        {
          "output_type": "display_data",
          "data": {
            "image/png": "[encoded data removed]",
            "text/plain": [
              "<Figure size 432x288 with 4 Axes>"
            ]
          },
          "metadata": {
            "tags": [],
            "needs_background": "light"
          }
        },
        {
          "output_type": "display_data",
          "data": {
            "image/png": "[encoded data removed]",
            "text/plain": [
              "<Figure size 432x288 with 4 Axes>"
            ]
          },
          "metadata": {
            "tags": [],
            "needs_background": "light"
          }
        },
        {
          "output_type": "display_data",
          "data": {
            "image/png": "[encoded data removed]",
            "text/plain": [
              "<Figure size 432x288 with 4 Axes>"
            ]
          },
          "metadata": {
            "tags": [],
            "needs_background": "light"
          }
        }
      ]
    },
    {
      "cell_type": "code",
      "metadata": {
        "colab": {
          "base_uri": "https://localhost:8080/",
          "height": 1000
        },
        "id": "hOMGR-imeJIz",
        "outputId": "6fc0a56d-4445-4e10-9aba-eb6b0c92b921"
      },
      "source": [
        "president_df.groupby('party').plot()"
      ],
      "execution_count": 54,
      "outputs": [
        {
          "output_type": "execute_result",
          "data": {
            "text/plain": [
              "party\n",
              "democratic               AxesSubplot(0.125,0.125;0.775x0.755)\n",
              "democratic-republican    AxesSubplot(0.125,0.125;0.775x0.755)\n",
              "federalist               AxesSubplot(0.125,0.125;0.775x0.755)\n",
              "national union           AxesSubplot(0.125,0.125;0.775x0.755)\n",
              "none                     AxesSubplot(0.125,0.125;0.775x0.755)\n",
              "republican               AxesSubplot(0.125,0.125;0.775x0.755)\n",
              "whig                     AxesSubplot(0.125,0.125;0.775x0.755)\n",
              "dtype: object"
            ]
          },
          "metadata": {
            "tags": []
          },
          "execution_count": 54
        },
        {
          "output_type": "display_data",
          "data": {
            "image/png": "[encoded data removed]",
            "text/plain": [
              "<Figure size 432x288 with 1 Axes>"
            ]
          },
          "metadata": {
            "tags": [],
            "needs_background": "light"
          }
        },
        {
          "output_type": "display_data",
          "data": {
            "image/png": "[encoded data removed]",
            "text/plain": [
              "<Figure size 432x288 with 1 Axes>"
            ]
          },
          "metadata": {
            "tags": [],
            "needs_background": "light"
          }
        },
        {
          "output_type": "display_data",
          "data": {
            "image/png": "[encoded data removed]",
            "text/plain": [
              "<Figure size 432x288 with 1 Axes>"
            ]
          },
          "metadata": {
            "tags": [],
            "needs_background": "light"
          }
        },
        {
          "output_type": "display_data",
          "data": {
            "image/png": "[encoded data removed]",
            "text/plain": [
              "<Figure size 432x288 with 1 Axes>"
            ]
          },
          "metadata": {
            "tags": [],
            "needs_background": "light"
          }
        },
        {
          "output_type": "display_data",
          "data": {
            "image/png": "[encoded data removed]",
            "text/plain": [
              "<Figure size 432x288 with 1 Axes>"
            ]
          },
          "metadata": {
            "tags": [],
            "needs_background": "light"
          }
        },
        {
          "output_type": "display_data",
          "data": {
            "image/png": "[encoded data removed]",
            "text/plain": [
              "<Figure size 432x288 with 1 Axes>"
            ]
          },
          "metadata": {
            "tags": [],
            "needs_background": "light"
          }
        },
        {
          "output_type": "display_data",
          "data": {
            "image/png": "[encoded data removed]",
            "text/plain": [
              "<Figure size 432x288 with 1 Axes>"
            ]
          },
          "metadata": {
            "tags": [],
            "needs_background": "light"
          }
        }
      ]
    },
    {
      "cell_type": "code",
      "metadata": {
        "colab": {
          "base_uri": "https://localhost:8080/"
        },
        "id": "jQD-rWhUejoc",
        "outputId": "8f713b65-a91b-4bb2-ac8a-94d321cef0fc"
      },
      "source": [
        "president_df.groupby('party')['height'].median()"
      ],
      "execution_count": 57,
      "outputs": [
        {
          "output_type": "execute_result",
          "data": {
            "text/plain": [
              "party\n",
              "democratic               180\n",
              "democratic-republican    177\n",
              "federalist               170\n",
              "national union           178\n",
              "none                     189\n",
              "republican               182\n",
              "whig                     174\n",
              "Name: height, dtype: int64"
            ]
          },
          "metadata": {
            "tags": []
          },
          "execution_count": 57
        }
      ]
    },
    {
      "cell_type": "code",
      "metadata": {
        "colab": {
          "base_uri": "https://localhost:8080/",
          "height": 382
        },
        "id": "-MgMLR89f9YW",
        "outputId": "f3f84cf4-d127-4028-e15d-b1ed8660f2a3"
      },
      "source": [
        "import numpy as np\r\n",
        "president_df.groupby('party')['height','age'].agg([min, np.median, max])"
      ],
      "execution_count": 59,
      "outputs": [
        {
          "output_type": "stream",
          "text": [
            "/usr/local/lib/python3.6/dist-packages/ipykernel_launcher.py:2: FutureWarning: Indexing with multiple keys (implicitly converted to a tuple of keys) will be deprecated, use a list instead.\n",
            "  \n"
          ],
          "name": "stderr"
        },
        {
          "output_type": "execute_result",
          "data": {
            "text/html": [
              "<div>\n",
              "<style scoped>\n",
              "    .dataframe tbody tr th:only-of-type {\n",
              "        vertical-align: middle;\n",
              "    }\n",
              "\n",
              "    .dataframe tbody tr th {\n",
              "        vertical-align: top;\n",
              "    }\n",
              "\n",
              "    .dataframe thead tr th {\n",
              "        text-align: left;\n",
              "    }\n",
              "\n",
              "    .dataframe thead tr:last-of-type th {\n",
              "        text-align: right;\n",
              "    }\n",
              "</style>\n",
              "<table border=\"1\" class=\"dataframe\">\n",
              "  <thead>\n",
              "    <tr>\n",
              "      <th></th>\n",
              "      <th colspan=\"3\" halign=\"left\">height</th>\n",
              "      <th colspan=\"3\" halign=\"left\">age</th>\n",
              "    </tr>\n",
              "    <tr>\n",
              "      <th></th>\n",
              "      <th>min</th>\n",
              "      <th>median</th>\n",
              "      <th>max</th>\n",
              "      <th>min</th>\n",
              "      <th>median</th>\n",
              "      <th>max</th>\n",
              "    </tr>\n",
              "    <tr>\n",
              "      <th>party</th>\n",
              "      <th></th>\n",
              "      <th></th>\n",
              "      <th></th>\n",
              "      <th></th>\n",
              "      <th></th>\n",
              "      <th></th>\n",
              "    </tr>\n",
              "  </thead>\n",
              "  <tbody>\n",
              "    <tr>\n",
              "      <th>democratic</th>\n",
              "      <td>168</td>\n",
              "      <td>180</td>\n",
              "      <td>193</td>\n",
              "      <td>43</td>\n",
              "      <td>52.0</td>\n",
              "      <td>65</td>\n",
              "    </tr>\n",
              "    <tr>\n",
              "      <th>democratic-republican</th>\n",
              "      <td>163</td>\n",
              "      <td>177</td>\n",
              "      <td>189</td>\n",
              "      <td>57</td>\n",
              "      <td>57.0</td>\n",
              "      <td>58</td>\n",
              "    </tr>\n",
              "    <tr>\n",
              "      <th>federalist</th>\n",
              "      <td>170</td>\n",
              "      <td>170</td>\n",
              "      <td>170</td>\n",
              "      <td>61</td>\n",
              "      <td>61.0</td>\n",
              "      <td>61</td>\n",
              "    </tr>\n",
              "    <tr>\n",
              "      <th>national union</th>\n",
              "      <td>178</td>\n",
              "      <td>178</td>\n",
              "      <td>178</td>\n",
              "      <td>56</td>\n",
              "      <td>56.0</td>\n",
              "      <td>56</td>\n",
              "    </tr>\n",
              "    <tr>\n",
              "      <th>none</th>\n",
              "      <td>189</td>\n",
              "      <td>189</td>\n",
              "      <td>189</td>\n",
              "      <td>57</td>\n",
              "      <td>57.0</td>\n",
              "      <td>57</td>\n",
              "    </tr>\n",
              "    <tr>\n",
              "      <th>republican</th>\n",
              "      <td>168</td>\n",
              "      <td>182</td>\n",
              "      <td>193</td>\n",
              "      <td>42</td>\n",
              "      <td>54.0</td>\n",
              "      <td>70</td>\n",
              "    </tr>\n",
              "    <tr>\n",
              "      <th>whig</th>\n",
              "      <td>173</td>\n",
              "      <td>174</td>\n",
              "      <td>183</td>\n",
              "      <td>50</td>\n",
              "      <td>57.5</td>\n",
              "      <td>68</td>\n",
              "    </tr>\n",
              "  </tbody>\n",
              "</table>\n",
              "</div>"
            ],
            "text/plain": [
              "                      height             age           \n",
              "                         min median  max min median max\n",
              "party                                                  \n",
              "democratic               168    180  193  43   52.0  65\n",
              "democratic-republican    163    177  189  57   57.0  58\n",
              "federalist               170    170  170  61   61.0  61\n",
              "national union           178    178  178  56   56.0  56\n",
              "none                     189    189  189  57   57.0  57\n",
              "republican               168    182  193  42   54.0  70\n",
              "whig                     173    174  183  50   57.5  68"
            ]
          },
          "metadata": {
            "tags": []
          },
          "execution_count": 59
        }
      ]
    },
    {
      "cell_type": "code",
      "metadata": {
        "colab": {
          "base_uri": "https://localhost:8080/",
          "height": 328
        },
        "id": "ZPu7EqDRgrJj",
        "outputId": "fd85aceb-5c68-4848-c756-7520c8dff5a2"
      },
      "source": [
        "president_df.groupby('party').agg({'height':[np.median, np.mean], 'age':[min, max]})"
      ],
      "execution_count": 60,
      "outputs": [
        {
          "output_type": "execute_result",
          "data": {
            "text/html": [
              "<div>\n",
              "<style scoped>\n",
              "    .dataframe tbody tr th:only-of-type {\n",
              "        vertical-align: middle;\n",
              "    }\n",
              "\n",
              "    .dataframe tbody tr th {\n",
              "        vertical-align: top;\n",
              "    }\n",
              "\n",
              "    .dataframe thead tr th {\n",
              "        text-align: left;\n",
              "    }\n",
              "\n",
              "    .dataframe thead tr:last-of-type th {\n",
              "        text-align: right;\n",
              "    }\n",
              "</style>\n",
              "<table border=\"1\" class=\"dataframe\">\n",
              "  <thead>\n",
              "    <tr>\n",
              "      <th></th>\n",
              "      <th colspan=\"2\" halign=\"left\">height</th>\n",
              "      <th colspan=\"2\" halign=\"left\">age</th>\n",
              "    </tr>\n",
              "    <tr>\n",
              "      <th></th>\n",
              "      <th>median</th>\n",
              "      <th>mean</th>\n",
              "      <th>min</th>\n",
              "      <th>max</th>\n",
              "    </tr>\n",
              "    <tr>\n",
              "      <th>party</th>\n",
              "      <th></th>\n",
              "      <th></th>\n",
              "      <th></th>\n",
              "      <th></th>\n",
              "    </tr>\n",
              "  </thead>\n",
              "  <tbody>\n",
              "    <tr>\n",
              "      <th>democratic</th>\n",
              "      <td>180</td>\n",
              "      <td>181.066667</td>\n",
              "      <td>43</td>\n",
              "      <td>65</td>\n",
              "    </tr>\n",
              "    <tr>\n",
              "      <th>democratic-republican</th>\n",
              "      <td>177</td>\n",
              "      <td>176.500000</td>\n",
              "      <td>57</td>\n",
              "      <td>58</td>\n",
              "    </tr>\n",
              "    <tr>\n",
              "      <th>federalist</th>\n",
              "      <td>170</td>\n",
              "      <td>170.000000</td>\n",
              "      <td>61</td>\n",
              "      <td>61</td>\n",
              "    </tr>\n",
              "    <tr>\n",
              "      <th>national union</th>\n",
              "      <td>178</td>\n",
              "      <td>178.000000</td>\n",
              "      <td>56</td>\n",
              "      <td>56</td>\n",
              "    </tr>\n",
              "    <tr>\n",
              "      <th>none</th>\n",
              "      <td>189</td>\n",
              "      <td>189.000000</td>\n",
              "      <td>57</td>\n",
              "      <td>57</td>\n",
              "    </tr>\n",
              "    <tr>\n",
              "      <th>republican</th>\n",
              "      <td>182</td>\n",
              "      <td>180.894737</td>\n",
              "      <td>42</td>\n",
              "      <td>70</td>\n",
              "    </tr>\n",
              "    <tr>\n",
              "      <th>whig</th>\n",
              "      <td>174</td>\n",
              "      <td>176.000000</td>\n",
              "      <td>50</td>\n",
              "      <td>68</td>\n",
              "    </tr>\n",
              "  </tbody>\n",
              "</table>\n",
              "</div>"
            ],
            "text/plain": [
              "                      height             age    \n",
              "                      median        mean min max\n",
              "party                                           \n",
              "democratic               180  181.066667  43  65\n",
              "democratic-republican    177  176.500000  57  58\n",
              "federalist               170  170.000000  61  61\n",
              "national union           178  178.000000  56  56\n",
              "none                     189  189.000000  57  57\n",
              "republican               182  180.894737  42  70\n",
              "whig                     174  176.000000  50  68"
            ]
          },
          "metadata": {
            "tags": []
          },
          "execution_count": 60
        }
      ]
    },
    {
      "cell_type": "code",
      "metadata": {
        "colab": {
          "base_uri": "https://localhost:8080/"
        },
        "id": "Al65UuJ_hsbZ",
        "outputId": "01ff5904-cdb3-4085-8a8d-292803698b9e"
      },
      "source": [
        "president_df.loc['Franklin D. Roosevelt', ['age', 'party']]"
      ],
      "execution_count": 61,
      "outputs": [
        {
          "output_type": "execute_result",
          "data": {
            "text/plain": [
              "age              51\n",
              "party    democratic\n",
              "Name: Franklin D. Roosevelt, dtype: object"
            ]
          },
          "metadata": {
            "tags": []
          },
          "execution_count": 61
        }
      ]
    },
    {
      "cell_type": "code",
      "metadata": {
        "colab": {
          "base_uri": "https://localhost:8080/"
        },
        "id": "QayGvcDriLb7",
        "outputId": "16d84e1e-650c-4faf-dab8-efb639e0f69b"
      },
      "source": [
        "president_df.shape[1]"
      ],
      "execution_count": 63,
      "outputs": [
        {
          "output_type": "execute_result",
          "data": {
            "text/plain": [
              "4"
            ]
          },
          "metadata": {
            "tags": []
          },
          "execution_count": 63
        }
      ]
    },
    {
      "cell_type": "code",
      "metadata": {
        "colab": {
          "base_uri": "https://localhost:8080/"
        },
        "id": "4aUjt91piV18",
        "outputId": "c86bd6e5-f079-49c5-d5ca-9d765fa5f7ee"
      },
      "source": [
        "president_df.shape[0]"
      ],
      "execution_count": 64,
      "outputs": [
        {
          "output_type": "execute_result",
          "data": {
            "text/plain": [
              "45"
            ]
          },
          "metadata": {
            "tags": []
          },
          "execution_count": 64
        }
      ]
    },
    {
      "cell_type": "code",
      "metadata": {
        "colab": {
          "base_uri": "https://localhost:8080/",
          "height": 328
        },
        "id": "f0Br8OXsif3E",
        "outputId": "1368e574-9f21-4b18-f42a-60e765b79ab2"
      },
      "source": [
        "president_df.groupby('party').agg([min, np.median])"
      ],
      "execution_count": 67,
      "outputs": [
        {
          "output_type": "execute_result",
          "data": {
            "text/html": [
              "<div>\n",
              "<style scoped>\n",
              "    .dataframe tbody tr th:only-of-type {\n",
              "        vertical-align: middle;\n",
              "    }\n",
              "\n",
              "    .dataframe tbody tr th {\n",
              "        vertical-align: top;\n",
              "    }\n",
              "\n",
              "    .dataframe thead tr th {\n",
              "        text-align: left;\n",
              "    }\n",
              "\n",
              "    .dataframe thead tr:last-of-type th {\n",
              "        text-align: right;\n",
              "    }\n",
              "</style>\n",
              "<table border=\"1\" class=\"dataframe\">\n",
              "  <thead>\n",
              "    <tr>\n",
              "      <th></th>\n",
              "      <th colspan=\"2\" halign=\"left\">order</th>\n",
              "      <th colspan=\"2\" halign=\"left\">age</th>\n",
              "      <th colspan=\"2\" halign=\"left\">height</th>\n",
              "    </tr>\n",
              "    <tr>\n",
              "      <th></th>\n",
              "      <th>min</th>\n",
              "      <th>median</th>\n",
              "      <th>min</th>\n",
              "      <th>median</th>\n",
              "      <th>min</th>\n",
              "      <th>median</th>\n",
              "    </tr>\n",
              "    <tr>\n",
              "      <th>party</th>\n",
              "      <th></th>\n",
              "      <th></th>\n",
              "      <th></th>\n",
              "      <th></th>\n",
              "      <th></th>\n",
              "      <th></th>\n",
              "    </tr>\n",
              "  </thead>\n",
              "  <tbody>\n",
              "    <tr>\n",
              "      <th>democratic</th>\n",
              "      <td>7</td>\n",
              "      <td>28.0</td>\n",
              "      <td>43</td>\n",
              "      <td>52.0</td>\n",
              "      <td>168</td>\n",
              "      <td>180</td>\n",
              "    </tr>\n",
              "    <tr>\n",
              "      <th>democratic-republican</th>\n",
              "      <td>3</td>\n",
              "      <td>4.5</td>\n",
              "      <td>57</td>\n",
              "      <td>57.0</td>\n",
              "      <td>163</td>\n",
              "      <td>177</td>\n",
              "    </tr>\n",
              "    <tr>\n",
              "      <th>federalist</th>\n",
              "      <td>2</td>\n",
              "      <td>2.0</td>\n",
              "      <td>61</td>\n",
              "      <td>61.0</td>\n",
              "      <td>170</td>\n",
              "      <td>170</td>\n",
              "    </tr>\n",
              "    <tr>\n",
              "      <th>national union</th>\n",
              "      <td>17</td>\n",
              "      <td>17.0</td>\n",
              "      <td>56</td>\n",
              "      <td>56.0</td>\n",
              "      <td>178</td>\n",
              "      <td>178</td>\n",
              "    </tr>\n",
              "    <tr>\n",
              "      <th>none</th>\n",
              "      <td>1</td>\n",
              "      <td>1.0</td>\n",
              "      <td>57</td>\n",
              "      <td>57.0</td>\n",
              "      <td>189</td>\n",
              "      <td>189</td>\n",
              "    </tr>\n",
              "    <tr>\n",
              "      <th>republican</th>\n",
              "      <td>16</td>\n",
              "      <td>29.0</td>\n",
              "      <td>42</td>\n",
              "      <td>54.0</td>\n",
              "      <td>168</td>\n",
              "      <td>182</td>\n",
              "    </tr>\n",
              "    <tr>\n",
              "      <th>whig</th>\n",
              "      <td>9</td>\n",
              "      <td>11.0</td>\n",
              "      <td>50</td>\n",
              "      <td>57.5</td>\n",
              "      <td>173</td>\n",
              "      <td>174</td>\n",
              "    </tr>\n",
              "  </tbody>\n",
              "</table>\n",
              "</div>"
            ],
            "text/plain": [
              "                      order        age        height       \n",
              "                        min median min median    min median\n",
              "party                                                      \n",
              "democratic                7   28.0  43   52.0    168    180\n",
              "democratic-republican     3    4.5  57   57.0    163    177\n",
              "federalist                2    2.0  61   61.0    170    170\n",
              "national union           17   17.0  56   56.0    178    178\n",
              "none                      1    1.0  57   57.0    189    189\n",
              "republican               16   29.0  42   54.0    168    182\n",
              "whig                      9   11.0  50   57.5    173    174"
            ]
          },
          "metadata": {
            "tags": []
          },
          "execution_count": 67
        }
      ]
    },
    {
      "cell_type": "code",
      "metadata": {
        "id": "ofsfW_-MjVRr"
      },
      "source": [
        ""
      ],
      "execution_count": null,
      "outputs": []
    }
  ]
}